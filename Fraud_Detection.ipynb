{
  "nbformat": 4,
  "nbformat_minor": 0,
  "metadata": {
    "colab": {
      "name": "Fraud-Detection.ipynb",
      "provenance": [],
      "authorship_tag": "ABX9TyNo0m/izX6iXSXXY6muiHBx",
      "include_colab_link": true
    },
    "kernelspec": {
      "name": "python3",
      "display_name": "Python 3"
    },
    "language_info": {
      "name": "python"
    }
  },
  "cells": [
    {
      "cell_type": "markdown",
      "metadata": {
        "id": "view-in-github",
        "colab_type": "text"
      },
      "source": [
        "<a href=\"https://colab.research.google.com/github/Bob-Gohardani/nlp-ml/blob/main/Fraud_Detection.ipynb\" target=\"_parent\"><img src=\"https://colab.research.google.com/assets/colab-badge.svg\" alt=\"Open In Colab\"/></a>"
      ]
    },
    {
      "cell_type": "code",
      "metadata": {
        "id": "uWzTz_IvxKFg"
      },
      "source": [
        "import pandas as pd\n",
        "import numpy as np\n",
        "import math\n",
        "import warnings\n",
        "from datetime import datetime\n",
        "from pandas.core.common import SettingWithCopyWarning\n",
        "warnings.simplefilter(action=\"ignore\", category=SettingWithCopyWarning)"
      ],
      "execution_count": null,
      "outputs": []
    },
    {
      "cell_type": "code",
      "metadata": {
        "id": "DajZbhj1yK6h"
      },
      "source": [
        "#########################\n",
        "# Red Flags definition\n",
        "#########################\n",
        "\n",
        "# Red flag 1\n",
        "\n",
        "# Computing distance between two strings. It is assumed that str1 is smaller than str2 in alphabetic order\n",
        "# If str1 = some_stringXXXX and str2 = some_stringYYYY, where XXXX and YYYY are four digits numbers and string parts of\n",
        "# str1 and str2 are the same, then distance() equals to YYYY - XXXX. Otherwise distance() is 10000\n",
        "\n",
        "def distance(str1, str2):\n",
        "    num1 = str1[-4:]\n",
        "\n",
        "    if num1.isnumeric():\n",
        "        num2 = str2[-4:]\n",
        "        if num2.isnumeric():\n",
        "            if str1[:-4] == str2[:-4]:\n",
        "                d = int(num2) - int(num1)\n",
        "            else:\n",
        "                d = 10000\n",
        "        else:\n",
        "            d = 10000\n",
        "    else:\n",
        "        d = 10000\n",
        "    return d"
      ],
      "execution_count": null,
      "outputs": []
    },
    {
      "cell_type": "code",
      "metadata": {
        "id": "MgjPtYyY35Bm"
      },
      "source": [
        "def flag1(df):\n",
        "    # for each vendor the invoice numbers are sorted in ascending order\n",
        "    df1 = df.groupby(['Vend#']).apply(lambda x: x.sort_values([\"RefDoc\"], ascending=True)).reset_index(\n",
        "        drop=True)\n",
        "    \n",
        "    # defining new column 'RF1' which consists of differences of invoice numbers in \"given\" and \"previous\" row\n",
        "    # defining auxiliary column 'distance' in which the distance is computed\n",
        "    for idx in df1.index:\n",
        "        if idx > 0:\n",
        "            str1 = str(df1.at[idx - 1, 'RefDoc'])\n",
        "            str2 = str(df1.at[idx, 'RefDoc'])\n",
        "            df1.loc[idx, ['distance']] = distance(str1, str2)\n",
        "            if df1.at[idx, 'distance'] == 1:\n",
        "                df1.loc[idx - 1, ['RF1']] = 1\n",
        "                df1.loc[idx, ['RF1']] = 1\n",
        "        else:\n",
        "            df1.loc[idx, ['distance']] = 10000\n",
        "\n",
        "    # In above line we compute differences not only between invoice numbers within the same vendor, but we also compute\n",
        "    # differences between the first invoice number of given vendor and the last invoice number of previous vendor.\n",
        "    # Since such differences do not make any sense, we change them to 0.\n",
        "    for acc in set(df1['Vend#']):\n",
        "        ii = df1[df1['Vend#'] == acc].index[0]\n",
        "        df1.loc[ii, ['distance']] = 0\n",
        "\n",
        "    # 'density' is a sum of three consecutive values of 'RF1' - given one and two previous\n",
        "    # https://pandas.pydata.org/docs/reference/api/pandas.DataFrame.rolling.html\n",
        "    df1['density'] = df1['distance'].rolling(3).sum()\n",
        "\n",
        "    # new column 'RF1_density' will equal 1 if numbers of FOUR consecutive invoice are in the interval of length 20,\n",
        "    # otherwise it will be 0\n",
        "    df1['RF1_density'] = 0\n",
        "    # loop for every vendor\n",
        "    for acc in set(df1['Vend#']):\n",
        "        # take all indexes of df1 for given vendor\n",
        "        indices = df1[df1['Vend#'] == acc].index\n",
        "        # take the first index for given vendor\n",
        "        ii = indices[0]\n",
        "        \n",
        "        for idx in range(ii + 2, ii + len(indices)):\n",
        "            if df1.loc[idx, ['density']].item() < 21:\n",
        "                df1.loc[idx - 2, ['RF1_density']] = 1\n",
        "                df1.loc[idx - 1, ['RF1_density']] = 1\n",
        "                df1.loc[idx, ['RF1_density']] = 1\n",
        "                if idx > ii + 2:\n",
        "                    df1.loc[idx - 3, ['RF1_density']] = 1\n",
        "    df1.drop(['density'], axis=1, inplace=True)\n",
        "    df1.drop(['distance'], axis=1, inplace=True)\n",
        "    # finally 'RF1' become a 0-1 flag\n",
        "    df1['RF1'] = df1['RF1'].apply(lambda x: 1 if x==1 else 0)\n",
        "    return df1"
      ],
      "execution_count": null,
      "outputs": []
    }
  ]
}