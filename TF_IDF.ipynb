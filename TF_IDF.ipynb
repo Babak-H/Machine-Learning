{
  "nbformat": 4,
  "nbformat_minor": 0,
  "metadata": {
    "colab": {
      "name": "TF-IDF.ipynb",
      "provenance": [],
      "authorship_tag": "ABX9TyPofO1XBSwxB5BJoo1c4CPS",
      "include_colab_link": true
    },
    "kernelspec": {
      "name": "python3",
      "display_name": "Python 3"
    },
    "language_info": {
      "name": "python"
    }
  },
  "cells": [
    {
      "cell_type": "markdown",
      "metadata": {
        "id": "view-in-github",
        "colab_type": "text"
      },
      "source": [
        "<a href=\"https://colab.research.google.com/github/Bob-Gohardani/nlp-ml/blob/main/TF_IDF.ipynb\" target=\"_parent\"><img src=\"https://colab.research.google.com/assets/colab-badge.svg\" alt=\"Open In Colab\"/></a>"
      ]
    },
    {
      "cell_type": "code",
      "metadata": {
        "id": "dUd7SbeapJqP"
      },
      "source": [
        "docA = \"the cat sat on my face\"\n",
        "docB = \"the dog sat on my bed\""
      ],
      "execution_count": 1,
      "outputs": []
    },
    {
      "cell_type": "code",
      "metadata": {
        "colab": {
          "base_uri": "https://localhost:8080/"
        },
        "id": "lgOsQi0JpRYr",
        "outputId": "bc832575-87ad-471c-de0d-cf9cab2c0070"
      },
      "source": [
        "# bag of words\n",
        "bowA = docA.split(\" \")\n",
        "bowB = docB.split(\" \")\n",
        "\n",
        "print(bowA)"
      ],
      "execution_count": 2,
      "outputs": [
        {
          "output_type": "stream",
          "text": [
            "['the', 'cat', 'sat', 'on', 'my', 'face']\n"
          ],
          "name": "stdout"
        }
      ]
    },
    {
      "cell_type": "code",
      "metadata": {
        "id": "iXWZXng4pj_D"
      },
      "source": [
        "wordSet = set(bowA).union(set(bowB))"
      ],
      "execution_count": 3,
      "outputs": []
    },
    {
      "cell_type": "code",
      "metadata": {
        "id": "gTh1stxCrNsl"
      },
      "source": [
        "# def fromkeys(iterable, value) : Create a new dictionary with keys from iterable and values set to value.\n",
        "wordDictA = dict.fromkeys(wordSet, 0)\n",
        "wordDictB = dict.fromkeys(wordSet, 0)"
      ],
      "execution_count": 4,
      "outputs": []
    },
    {
      "cell_type": "code",
      "metadata": {
        "id": "iJIZLrWDrkUu"
      },
      "source": [
        "for word in bowA:\n",
        "  wordDictA[word] += 1\n",
        "\n",
        "for word in bowB:\n",
        "  wordDictB[word] += 1"
      ],
      "execution_count": 5,
      "outputs": []
    },
    {
      "cell_type": "code",
      "metadata": {
        "colab": {
          "base_uri": "https://localhost:8080/"
        },
        "id": "1pTkAkXPrzHC",
        "outputId": "da6ef888-fe04-45c0-f297-f41408937960"
      },
      "source": [
        "import pandas as pd\n",
        "\n",
        "print(pd.DataFrame([wordDictA, wordDictB]))"
      ],
      "execution_count": 7,
      "outputs": [
        {
          "output_type": "stream",
          "text": [
            "   sat  bed  my  on  face  dog  cat  the\n",
            "0    1    0   1   1     1    0    1    1\n",
            "1    1    1   1   1     0    1    0    1\n"
          ],
          "name": "stdout"
        }
      ]
    },
    {
      "cell_type": "markdown",
      "metadata": {
        "id": "RxeiRLWnsQqN"
      },
      "source": [
        "my - on - the  : these are repeated in both corpus and dont have any special meanings"
      ]
    },
    {
      "cell_type": "markdown",
      "metadata": {
        "id": "UbPoKLv_sWDR"
      },
      "source": [
        "TF-IDF   TF(w) * IDF(w)\n",
        "\n",
        "tf(w): (Number of times the word w appears in a document) / (Total number of words in the document)\n",
        "\n",
        "idf(w) : log(Number of documents / Number of documents that contain word w )"
      ]
    },
    {
      "cell_type": "code",
      "metadata": {
        "id": "34qeGBGgsl0B"
      },
      "source": [
        "def computeTF(wordDict, bow):\n",
        "  tfDict = {}\n",
        "  bowCount = len(bow)\n",
        "\n",
        "  for word, count in wordDict.items():\n",
        "    tfDict[word] = count / float(bowCount)\n",
        "  \n",
        "  return tfDict"
      ],
      "execution_count": 8,
      "outputs": []
    },
    {
      "cell_type": "code",
      "metadata": {
        "id": "XqE14xrLtJkA"
      },
      "source": [
        "tfbowA = computeTF(wordDictA, bowA)\n",
        "tfbowB = computeTF(wordDictB, bowB)"
      ],
      "execution_count": 9,
      "outputs": []
    },
    {
      "cell_type": "code",
      "metadata": {
        "id": "zu7KQKLNtc3D"
      },
      "source": [
        "def computeIDF(docList):\n",
        "    import math\n",
        "    idfDict = {}\n",
        "    N = len(docList)\n",
        "    \n",
        "    # both dictionaries come from same set, so have same length\n",
        "    idfDict = dict.fromkeys(docList[0].keys(),0)\n",
        "\n",
        "    # counts the number of documents that contain a word w\n",
        "    for doc in docList:\n",
        "        for word, val in doc.items():\n",
        "            if val > 0:\n",
        "                idfDict[word] +=1\n",
        "                \n",
        "    #divide N by denominator above, take the log of that\n",
        "    for word, val in idfDict.items():\n",
        "        idfDict[word]= math.log(N / float(val)) \n",
        "\n",
        "    return idfDict"
      ],
      "execution_count": 14,
      "outputs": []
    },
    {
      "cell_type": "code",
      "metadata": {
        "id": "7ZYIL0cRwLYe"
      },
      "source": [
        "idfs = computeIDF([wordDictA, wordDictB])"
      ],
      "execution_count": 15,
      "outputs": []
    },
    {
      "cell_type": "code",
      "metadata": {
        "id": "bFPN5di6weFP"
      },
      "source": [
        "def computeTFIDF(tfBow, idfs):\n",
        "  tfidf = {}\n",
        "\n",
        "  for word, val in tfBow.items():\n",
        "    tfidf[word] = val * idfs[word]\n",
        "  return tfidf"
      ],
      "execution_count": 16,
      "outputs": []
    },
    {
      "cell_type": "code",
      "metadata": {
        "id": "hBAjEfOHxf9X"
      },
      "source": [
        "tfidfbowA = computeTFIDF(tfbowA, idfs)\n",
        "tfidfbowB = computeTFIDF(tfbowB, idfs)"
      ],
      "execution_count": 19,
      "outputs": []
    },
    {
      "cell_type": "code",
      "metadata": {
        "colab": {
          "base_uri": "https://localhost:8080/"
        },
        "id": "Q-Qd1G1gxmCk",
        "outputId": "c47843b8-009e-4aa3-d7a3-ec6ac3a7c074"
      },
      "source": [
        "print(pd.DataFrame([tfidfbowA, tfidfbowB]))"
      ],
      "execution_count": 21,
      "outputs": [
        {
          "output_type": "stream",
          "text": [
            "   sat       bed   my   on      face       dog       cat  the\n",
            "0  0.0  0.000000  0.0  0.0  0.115525  0.000000  0.115525  0.0\n",
            "1  0.0  0.115525  0.0  0.0  0.000000  0.115525  0.000000  0.0\n"
          ],
          "name": "stdout"
        }
      ]
    },
    {
      "cell_type": "code",
      "metadata": {
        "id": "eb3wfV-yxw_9"
      },
      "source": [
        ""
      ],
      "execution_count": null,
      "outputs": []
    }
  ]
}