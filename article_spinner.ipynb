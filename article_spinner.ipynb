{
  "nbformat": 4,
  "nbformat_minor": 0,
  "metadata": {
    "colab": {
      "name": "article_spinner.ipynb",
      "provenance": [],
      "authorship_tag": "ABX9TyPBIXlAYdOgjNvM5zzIEf8i",
      "include_colab_link": true
    },
    "kernelspec": {
      "name": "python3",
      "display_name": "Python 3"
    },
    "language_info": {
      "name": "python"
    }
  },
  "cells": [
    {
      "cell_type": "markdown",
      "metadata": {
        "id": "view-in-github",
        "colab_type": "text"
      },
      "source": [
        "<a href=\"https://colab.research.google.com/github/Bob-Gohardani/nlp-ml/blob/main/article_spinner.ipynb\" target=\"_parent\"><img src=\"https://colab.research.google.com/assets/colab-badge.svg\" alt=\"Open In Colab\"/></a>"
      ]
    },
    {
      "cell_type": "code",
      "metadata": {
        "colab": {
          "base_uri": "https://localhost:8080/"
        },
        "id": "MEm9_it1Xucq",
        "outputId": "4eb7afb0-24bd-4ba3-bf50-d1b5118218d8"
      },
      "source": [
        "from __future__ import print_function, division\n",
        "from future.utils import iteritems\n",
        "import nltk\n",
        "import random\n",
        "import numpy as np\n",
        "from builtins import range\n",
        "from bs4 import BeautifulSoup\n",
        "\n",
        "nltk.download('punkt')"
      ],
      "execution_count": 12,
      "outputs": [
        {
          "output_type": "stream",
          "text": [
            "[nltk_data] Downloading package punkt to /root/nltk_data...\n",
            "[nltk_data]   Package punkt is already up-to-date!\n"
          ],
          "name": "stdout"
        },
        {
          "output_type": "execute_result",
          "data": {
            "text/plain": [
              "True"
            ]
          },
          "metadata": {
            "tags": []
          },
          "execution_count": 12
        }
      ]
    },
    {
      "cell_type": "code",
      "metadata": {
        "id": "547GSP80YjBF"
      },
      "source": [
        "# only use positive reviews here\n",
        "positive_reviews = BeautifulSoup(open('positive.review.txt').read())\n",
        "positive_reviews = positive_reviews.findAll('review_text')"
      ],
      "execution_count": 13,
      "outputs": []
    },
    {
      "cell_type": "code",
      "metadata": {
        "id": "7d5LeuDJZPUr"
      },
      "source": [
        "trigrams = {}\n",
        "for review in positive_reviews:\n",
        "    s = review.text.lower()\n",
        "    # make each review string into tokens\n",
        "    tokens = nltk.tokenize.word_tokenize(s)\n",
        "    # we have i-1, i , i+1 so last i-1 is len-2\n",
        "    for i in range(len(tokens) -2):\n",
        "\n",
        "        # key to dictionary can tuple but not list\n",
        "        k = (tokens[i], tokens[i+2])\n",
        "        if k not in trigrams:\n",
        "            trigrams[k] = []\n",
        "        trigrams[k].append(tokens[i+1])"
      ],
      "execution_count": 14,
      "outputs": []
    },
    {
      "cell_type": "code",
      "metadata": {
        "id": "8pn41mgao--X"
      },
      "source": [
        "trigram_probabilities = {}\n",
        "# loop through each trigram\n",
        "for k, words in trigrams.items():\n",
        "    # if all middle words for a trigrams are less than two then omit that word\n",
        "    if len(set(words)) > 1:\n",
        "        d = {}\n",
        "        n = 0\n",
        "        # loop through all possible words for a trigram and count each one's repetition\n",
        "        for w in words:\n",
        "            if w not in d:\n",
        "                d[w] = 0\n",
        "            d[w] += 1\n",
        "            n += 1\n",
        "        for w,c in d.items():\n",
        "            d[w] = float(c)/ n\n",
        "        # key is the previous and next word : value is each possibility and it's probability\n",
        "        trigram_probabilities[k] = d"
      ],
      "execution_count": 15,
      "outputs": []
    },
    {
      "cell_type": "code",
      "metadata": {
        "id": "ZroddiqKsdZa"
      },
      "source": [
        "def random_sample(d):\n",
        "    # find a random number and if add up of all probabilities is smaller than random then select that word\n",
        "    r = random.random()\n",
        "    cumulative = 0\n",
        "    for w, p in iteritems(d):\n",
        "        cumulative += p\n",
        "        if r < cumulative:\n",
        "            return w"
      ],
      "execution_count": 16,
      "outputs": []
    },
    {
      "cell_type": "code",
      "metadata": {
        "id": "YYIr4znpsoo6"
      },
      "source": [
        "def test_spinner():\n",
        "    review = random.choice(positive_reviews)\n",
        "    s = review.text.lower()\n",
        "    print(\"Original\", s)\n",
        "\n",
        "    tokens = nltk.tokenize.word_tokenize(s)\n",
        "\n",
        "    for i in range(len(tokens)-2):\n",
        "        # for only 1 in 5 words/ tokens do this\n",
        "        if random.random() < 0.2:\n",
        "            k = (tokens[i], tokens[i+2])\n",
        "            if k in trigram_probabilities:\n",
        "                w = random_sample(trigram_probabilities[k])\n",
        "                tokens[i+1] = w\n",
        "                \n",
        "    print(\"Modified: \")\n",
        "    print(\" \".join(tokens).replace(\" .\", \".\").replace(\" '\", \"'\").replace(\" ,\", \",\").replace(\"$ \", \"$\").replace(\" !\", \"!\"))"
      ],
      "execution_count": 17,
      "outputs": []
    },
    {
      "cell_type": "code",
      "metadata": {
        "colab": {
          "base_uri": "https://localhost:8080/"
        },
        "id": "smdHBY1gs2rY",
        "outputId": "2f1f09a1-060f-4f32-e0f4-111bca8843d6"
      },
      "source": [
        "test_spinner()"
      ],
      "execution_count": 19,
      "outputs": [
        {
          "output_type": "stream",
          "text": [
            "Original \n",
            "i basically bought these because they were cheap. cheap things are not always bad and these headphones are a great example. the ur-20 provides excellent sound for both music and movies. it has excellent bass and sound isolation. i am by no means an audiophile but i know good sound when i hear it and these headphones produce great sound, especially for its price.\n",
            "\n",
            "Modified: \n",
            "i basically bought these because they were wonderful. cheap things are not sound bad and these headphones at a great example. the ur-20 provides excellent sound for bass-heavy music and whistles. it is excellent bass and sound isolation. i am by no means an audiophile but i know good sound! i hear it and these headphones produce great sound, especially for its price.\n"
          ],
          "name": "stdout"
        }
      ]
    },
    {
      "cell_type": "code",
      "metadata": {
        "id": "s_qv_SxQs5CK"
      },
      "source": [
        ""
      ],
      "execution_count": null,
      "outputs": []
    }
  ]
}