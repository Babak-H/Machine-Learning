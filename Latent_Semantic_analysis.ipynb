{
  "nbformat": 4,
  "nbformat_minor": 0,
  "metadata": {
    "colab": {
      "name": "Latent_Semantic_analysis.ipynb",
      "provenance": [],
      "authorship_tag": "ABX9TyMV39J2my9mF+ncDvGZ8MLw",
      "include_colab_link": true
    },
    "kernelspec": {
      "name": "python3",
      "display_name": "Python 3"
    },
    "language_info": {
      "name": "python"
    }
  },
  "cells": [
    {
      "cell_type": "markdown",
      "metadata": {
        "id": "view-in-github",
        "colab_type": "text"
      },
      "source": [
        "<a href=\"https://colab.research.google.com/github/Bob-Gohardani/Machine-Learning/blob/main/Latent_Semantic_analysis.ipynb\" target=\"_parent\"><img src=\"https://colab.research.google.com/assets/colab-badge.svg\" alt=\"Open In Colab\"/></a>"
      ]
    },
    {
      "cell_type": "code",
      "metadata": {
        "colab": {
          "base_uri": "https://localhost:8080/"
        },
        "id": "tOpHn8skQDxp",
        "outputId": "8c6024ea-742b-4397-b0e2-1bea32aed106"
      },
      "source": [
        "import pandas as pd\n",
        "import numpy as np\n",
        "import nltk\n",
        "import matplotlib.pyplot as plt\n",
        "from nltk.stem import WordNetLemmatizer\n",
        "from builtins import range\n",
        "from sklearn.decomposition import TruncatedSVD\n",
        "\n",
        "nltk.download('punkt')\n",
        "nltk.download('wordnet')"
      ],
      "execution_count": 11,
      "outputs": [
        {
          "output_type": "stream",
          "text": [
            "[nltk_data] Downloading package punkt to /root/nltk_data...\n",
            "[nltk_data]   Package punkt is already up-to-date!\n",
            "[nltk_data] Downloading package wordnet to /root/nltk_data...\n",
            "[nltk_data]   Unzipping corpora/wordnet.zip.\n"
          ],
          "name": "stdout"
        },
        {
          "output_type": "execute_result",
          "data": {
            "text/plain": [
              "True"
            ]
          },
          "metadata": {
            "tags": []
          },
          "execution_count": 11
        }
      ]
    },
    {
      "cell_type": "code",
      "metadata": {
        "id": "FtJRa1FKRVIn"
      },
      "source": [
        "wordnet_lemmatizer = WordNetLemmatizer()"
      ],
      "execution_count": 12,
      "outputs": []
    },
    {
      "cell_type": "code",
      "metadata": {
        "id": "RcxKtDuLShwm"
      },
      "source": [
        "titles = [line.rstrip() for line in open('all_book_titles.txt')]\n",
        "# copy tokenizer from sentiment example\n",
        "stop_words = set(w.rstrip() for w in open('stopwords.txt'))"
      ],
      "execution_count": 13,
      "outputs": []
    },
    {
      "cell_type": "code",
      "metadata": {
        "id": "LNazTjFMjtQS"
      },
      "source": [
        "# add these words to stop words (typical words repeated in many book titles)\n",
        "stop_words = stop_words.union({\n",
        "    'introduction', 'edition', 'series', 'application',\n",
        "    'approach', 'card', 'access', 'package', 'plus', 'etext',\n",
        "    'brief', 'vol', 'fundamental', 'guide', 'essential', 'printed',\n",
        "    'third', 'second', 'fourth'\n",
        "})"
      ],
      "execution_count": 14,
      "outputs": []
    },
    {
      "cell_type": "code",
      "metadata": {
        "id": "aQD3jZDrj2pQ"
      },
      "source": [
        "def my_tokenizer(s):\n",
        "    s = s.lower() # downcase\n",
        "    tokens = nltk.tokenize.word_tokenize(s) \n",
        "    tokens = [t for t in tokens if len(t) > 2] \n",
        "    tokens = [wordnet_lemmatizer.lemmatize(t) for t in tokens]\n",
        "    tokens = [t for t in tokens if t not in stop_words] \n",
        "    # check if any token word includes a digit, if yes omit that word form tokens\n",
        "    tokens = [t for t in tokens if not any(c.isdigit() for c in t)]\n",
        "    return tokens"
      ],
      "execution_count": 15,
      "outputs": []
    },
    {
      "cell_type": "code",
      "metadata": {
        "id": "RGTx162SlfdM"
      },
      "source": [
        "word_index_map = {}\n",
        "current_index  = 0\n",
        "all_tokens = []\n",
        "all_titles = []\n",
        "index_word_map = []"
      ],
      "execution_count": 16,
      "outputs": []
    },
    {
      "cell_type": "code",
      "metadata": {
        "id": "uKmpOjVAlh9x"
      },
      "source": [
        "for title in titles:\n",
        "    try:\n",
        "        title = title.encode('ascii', 'ignore').decode('utf-8') \n",
        "        all_titles.append(title)\n",
        "        tokens = my_tokenizer(title)\n",
        "\n",
        "        # each of these 'tokens' is a book title\n",
        "        all_tokens.append(tokens)\n",
        "        for token in tokens:\n",
        "            if token not in word_index_map:\n",
        "                word_index_map[token] = current_index\n",
        "                current_index += 1\n",
        "                index_word_map.append(token)\n",
        "    except Exception as e:\n",
        "        print(e)"
      ],
      "execution_count": 17,
      "outputs": []
    },
    {
      "cell_type": "code",
      "metadata": {
        "id": "bCqOR7NnoUB8"
      },
      "source": [
        "# create a binary vector (only true if a word exists)\n",
        "def tokens_to_vector(tokens):\n",
        "    x = np.zeros(len(word_index_map))\n",
        "    for t in tokens:\n",
        "        i = word_index_map[t]\n",
        "        x[i] = 1\n",
        "    return x"
      ],
      "execution_count": 18,
      "outputs": []
    },
    {
      "cell_type": "code",
      "metadata": {
        "colab": {
          "base_uri": "https://localhost:8080/"
        },
        "id": "0nFwurYUooB8",
        "outputId": "f025628a-92fc-467a-e516-0400e8a944ca"
      },
      "source": [
        "N = len(all_tokens)\n",
        "D = len(word_index_map)\n",
        "\n",
        "print(N, D)"
      ],
      "execution_count": 19,
      "outputs": [
        {
          "output_type": "stream",
          "text": [
            "2373 2070\n"
          ],
          "name": "stdout"
        }
      ]
    },
    {
      "cell_type": "code",
      "metadata": {
        "colab": {
          "base_uri": "https://localhost:8080/"
        },
        "id": "eESHm_qKor2Y",
        "outputId": "752f956a-0499-4433-c79f-b2f82bb4736e"
      },
      "source": [
        "# In this example we are treating each word as a sample, and the vector of counts of documents as a feature vector\n",
        "# this is term-documnet-matrix not document-term-matrix\n",
        "X = np.zeros((D, N))\n",
        "X.shape"
      ],
      "execution_count": 21,
      "outputs": [
        {
          "output_type": "execute_result",
          "data": {
            "text/plain": [
              "(2070, 2373)"
            ]
          },
          "metadata": {
            "tags": []
          },
          "execution_count": 21
        }
      ]
    },
    {
      "cell_type": "code",
      "metadata": {
        "id": "sL7oagXCo7B6"
      },
      "source": [
        "i= 0\n",
        "for tokens in all_tokens:\n",
        "    '''\n",
        "    : all rows | i specific column\n",
        "    each column of our data matrix is the vector of a book title that we have which includes how many of unique words have been existing in it\n",
        "    each row of our data matrix is a unique word\n",
        "    therefore each row of our data matrix is the vector of each of our unique words, so we can find most similar words with each other\n",
        "    '''\n",
        "    X[:,i] = tokens_to_vector(tokens)\n",
        "    i += 1"
      ],
      "execution_count": 22,
      "outputs": []
    },
    {
      "cell_type": "code",
      "metadata": {
        "colab": {
          "base_uri": "https://localhost:8080/",
          "height": 265
        },
        "id": "co7_Fn94pRGo",
        "outputId": "3775589a-f79f-4f11-d777-44716b7b0ccc"
      },
      "source": [
        "'''\n",
        "what we do in SVD (singular value decomposition) here is that reduce dimentionality of each word from len(N) to only 2 dimensions \n",
        "so we can map closest words that we have together on a scatter plot:\n",
        "'''\n",
        "svd = TruncatedSVD()\n",
        "Z = svd.fit_transform(X)\n",
        "plt.scatter(Z[:,0], Z[:,1])\n",
        "for i in range(D):\n",
        "    plt.annotate(s=index_word_map[i], xy=(Z[i,0], Z[i,1]))\n",
        "plt.show()"
      ],
      "execution_count": 25,
      "outputs": [
        {
          "output_type": "display_data",
          "data": {
            "image/png": "[encoded data removed]",
            "text/plain": [
              "<Figure size 432x288 with 1 Axes>"
            ]
          },
          "metadata": {
            "tags": [],
            "needs_background": "light"
          }
        }
      ]
    },
    {
      "cell_type": "code",
      "metadata": {
        "id": "oNj0TGTKtKrU"
      },
      "source": [
        ""
      ],
      "execution_count": null,
      "outputs": []
    }
  ]
}