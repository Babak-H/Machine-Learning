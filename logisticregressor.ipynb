{
 "cells": [
  {
   "cell_type": "code",
   "execution_count": 1,
   "metadata": {
    "execution": {
     "iopub.execute_input": "2021-03-08T11:01:33.964388Z",
     "iopub.status.busy": "2021-03-08T11:01:33.963391Z",
     "iopub.status.idle": "2021-03-08T11:01:34.541830Z",
     "shell.execute_reply": "2021-03-08T11:01:34.542466Z"
    },
    "papermill": {
     "duration": 0.590672,
     "end_time": "2021-03-08T11:01:34.542785",
     "exception": false,
     "start_time": "2021-03-08T11:01:33.952113",
     "status": "completed"
    },
    "tags": []
   },
   "outputs": [],
   "source": [
    "import numpy as np\n",
    "from scipy.optimize import minimize\n",
    "import matplotlib.pyplot as plt"
   ]
  },
  {
   "cell_type": "code",
   "execution_count": 2,
   "metadata": {
    "execution": {
     "iopub.execute_input": "2021-03-08T11:01:34.562227Z",
     "iopub.status.busy": "2021-03-08T11:01:34.561258Z",
     "iopub.status.idle": "2021-03-08T11:01:34.568362Z",
     "shell.execute_reply": "2021-03-08T11:01:34.567816Z"
    },
    "papermill": {
     "duration": 0.017416,
     "end_time": "2021-03-08T11:01:34.568512",
     "exception": false,
     "start_time": "2021-03-08T11:01:34.551096",
     "status": "completed"
    },
    "tags": []
   },
   "outputs": [],
   "source": [
    "# c : vector of parameters for p0 and p1 in our linear function\n",
    "# x : inputs\n",
    "# y : outputs\n",
    "\n",
    "def log_likelihood(c, x, y):\n",
    "    p = 1 / (1 + np.exp(-(c[0]+c[1]*x)))\n",
    "    # based on notes : Lj can be 1 or zero therefore Lj and 1-Lj are both one\n",
    "    ll = np.sum(np.log(p[y==1])) + np.sum(np.log(1 - p[y==0]))\n",
    "    return -ll"
   ]
  },
  {
   "cell_type": "code",
   "execution_count": 3,
   "metadata": {
    "execution": {
     "iopub.execute_input": "2021-03-08T11:01:34.588877Z",
     "iopub.status.busy": "2021-03-08T11:01:34.588199Z",
     "iopub.status.idle": "2021-03-08T11:01:34.591120Z",
     "shell.execute_reply": "2021-03-08T11:01:34.591626Z"
    },
    "papermill": {
     "duration": 0.015812,
     "end_time": "2021-03-08T11:01:34.591830",
     "exception": false,
     "start_time": "2021-03-08T11:01:34.576018",
     "status": "completed"
    },
    "tags": []
   },
   "outputs": [],
   "source": [
    "# sigmoid function\n",
    "def sig(x, c):\n",
    "    return 1 / (1 + np.exp(-(c[0]+c[1]*x)))"
   ]
  },
  {
   "cell_type": "code",
   "execution_count": 4,
   "metadata": {
    "execution": {
     "iopub.execute_input": "2021-03-08T11:01:34.614145Z",
     "iopub.status.busy": "2021-03-08T11:01:34.613494Z",
     "iopub.status.idle": "2021-03-08T11:01:34.615664Z",
     "shell.execute_reply": "2021-03-08T11:01:34.616296Z"
    },
    "papermill": {
     "duration": 0.016513,
     "end_time": "2021-03-08T11:01:34.616477",
     "exception": false,
     "start_time": "2021-03-08T11:01:34.599964",
     "status": "completed"
    },
    "tags": []
   },
   "outputs": [],
   "source": [
    "# training data\n",
    "x_class_0 = np.random.normal(0, 1, 50)\n",
    "x_class_1 = np.random.normal(0, 1, 50) + 1\n",
    "\n",
    "x = np.concatenate([x_class_0, x_class_1])\n",
    "\n",
    "y_class_0 = np.zeros((50))\n",
    "y_class_1 = np.ones((50))\n",
    "\n",
    "y = np.zeros((100))"
   ]
  },
  {
   "cell_type": "code",
   "execution_count": 5,
   "metadata": {
    "execution": {
     "iopub.execute_input": "2021-03-08T11:01:34.635828Z",
     "iopub.status.busy": "2021-03-08T11:01:34.635176Z",
     "iopub.status.idle": "2021-03-08T11:01:34.639543Z",
     "shell.execute_reply": "2021-03-08T11:01:34.640083Z"
    },
    "papermill": {
     "duration": 0.016091,
     "end_time": "2021-03-08T11:01:34.640279",
     "exception": false,
     "start_time": "2021-03-08T11:01:34.624188",
     "status": "completed"
    },
    "tags": []
   },
   "outputs": [],
   "source": [
    "colors = ['r', 'b']\n",
    "f = lambda x: colors[int(x)] # based on value of x (0 < x < 1 and x > 1 map them to colors)\n",
    "colors1 = list(map(f, y))"
   ]
  },
  {
   "cell_type": "code",
   "execution_count": 6,
   "metadata": {
    "execution": {
     "iopub.execute_input": "2021-03-08T11:01:34.659489Z",
     "iopub.status.busy": "2021-03-08T11:01:34.658845Z",
     "iopub.status.idle": "2021-03-08T11:01:34.683060Z",
     "shell.execute_reply": "2021-03-08T11:01:34.684149Z"
    },
    "papermill": {
     "duration": 0.036155,
     "end_time": "2021-03-08T11:01:34.684504",
     "exception": false,
     "start_time": "2021-03-08T11:01:34.648349",
     "status": "completed"
    },
    "tags": []
   },
   "outputs": [],
   "source": [
    "# maximum likelihood estimation:\n",
    "# optimizing to find c0 and c1 parameters\n",
    "start_params = np.array([1, 1])                                                 # when error is smaller than 1e-6 stop\n",
    "res = minimize(log_likelihood, \n",
    "               start_params, args=(x, y), \n",
    "               method=\"BFGS\", \n",
    "               options={'gtol' : 1e-6 , 'disp' : False})"
   ]
  },
  {
   "cell_type": "code",
   "execution_count": 7,
   "metadata": {
    "execution": {
     "iopub.execute_input": "2021-03-08T11:01:34.711065Z",
     "iopub.status.busy": "2021-03-08T11:01:34.710039Z",
     "iopub.status.idle": "2021-03-08T11:01:34.712945Z",
     "shell.execute_reply": "2021-03-08T11:01:34.712324Z"
    },
    "papermill": {
     "duration": 0.016426,
     "end_time": "2021-03-08T11:01:34.713082",
     "exception": false,
     "start_time": "2021-03-08T11:01:34.696656",
     "status": "completed"
    },
    "tags": []
   },
   "outputs": [],
   "source": [
    "# test data and predictions:\n",
    "x_test = np.random.normal(0, 1, 30) * 2\n",
    "y_test = np.zeros((30))\n",
    "\n",
    "predictions = sig(x_test, res.x) # c0 and c1"
   ]
  },
  {
   "cell_type": "code",
   "execution_count": 8,
   "metadata": {
    "execution": {
     "iopub.execute_input": "2021-03-08T11:01:34.733268Z",
     "iopub.status.busy": "2021-03-08T11:01:34.732251Z",
     "iopub.status.idle": "2021-03-08T11:01:34.736958Z",
     "shell.execute_reply": "2021-03-08T11:01:34.737496Z"
    },
    "papermill": {
     "duration": 0.016456,
     "end_time": "2021-03-08T11:01:34.737695",
     "exception": false,
     "start_time": "2021-03-08T11:01:34.721239",
     "status": "completed"
    },
    "tags": []
   },
   "outputs": [],
   "source": [
    "f2 = lambda x: int(x > 0.5) # if x > 0.5 then turn it into 1 otherwise turn it into 0\n",
    "predictions = list(map(f2, predictions))"
   ]
  },
  {
   "cell_type": "code",
   "execution_count": 9,
   "metadata": {
    "execution": {
     "iopub.execute_input": "2021-03-08T11:01:34.758101Z",
     "iopub.status.busy": "2021-03-08T11:01:34.757424Z",
     "iopub.status.idle": "2021-03-08T11:01:34.761583Z",
     "shell.execute_reply": "2021-03-08T11:01:34.762093Z"
    },
    "papermill": {
     "duration": 0.016277,
     "end_time": "2021-03-08T11:01:34.762316",
     "exception": false,
     "start_time": "2021-03-08T11:01:34.746039",
     "status": "completed"
    },
    "tags": []
   },
   "outputs": [],
   "source": [
    "c0 = res.x[0]\n",
    "c1 = res.x[1]\n",
    "\n",
    "# turn 0,1 into colors r, b \n",
    "colors2 = list(map(f, predictions))"
   ]
  },
  {
   "cell_type": "code",
   "execution_count": null,
   "metadata": {
    "papermill": {
     "duration": 0.008662,
     "end_time": "2021-03-08T11:01:34.779272",
     "exception": false,
     "start_time": "2021-03-08T11:01:34.770610",
     "status": "completed"
    },
    "tags": []
   },
   "outputs": [],
   "source": []
  }
 ],
 "metadata": {
  "kernelspec": {
   "display_name": "Python 3",
   "language": "python",
   "name": "python3"
  },
  "language_info": {
   "codemirror_mode": {
    "name": "ipython",
    "version": 3
   },
   "file_extension": ".py",
   "mimetype": "text/x-python",
   "name": "python",
   "nbconvert_exporter": "python",
   "pygments_lexer": "ipython3",
   "version": "3.7.9"
  },
  "papermill": {
   "default_parameters": {},
   "duration": 7.519129,
   "end_time": "2021-03-08T11:01:35.398989",
   "environment_variables": {},
   "exception": null,
   "input_path": "__notebook__.ipynb",
   "output_path": "__notebook__.ipynb",
   "parameters": {},
   "start_time": "2021-03-08T11:01:27.879860",
   "version": "2.2.2"
  }
 },
 "nbformat": 4,
 "nbformat_minor": 4
}
