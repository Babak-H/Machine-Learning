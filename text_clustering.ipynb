{
  "nbformat": 4,
  "nbformat_minor": 0,
  "metadata": {
    "colab": {
      "name": "text_clustering.ipynb",
      "provenance": [],
      "authorship_tag": "ABX9TyOXCarljvhkLZjbAxQLZT8n",
      "include_colab_link": true
    },
    "kernelspec": {
      "name": "python3",
      "display_name": "Python 3"
    },
    "language_info": {
      "name": "python"
    }
  },
  "cells": [
    {
      "cell_type": "markdown",
      "metadata": {
        "id": "view-in-github",
        "colab_type": "text"
      },
      "source": [
        "<a href=\"https://colab.research.google.com/github/Bob-Gohardani/nlp-ml/blob/main/text_clustering.ipynb\" target=\"_parent\"><img src=\"https://colab.research.google.com/assets/colab-badge.svg\" alt=\"Open In Colab\"/></a>"
      ]
    },
    {
      "cell_type": "code",
      "metadata": {
        "id": "ioqrTnsLR3jJ"
      },
      "source": [
        "# Kmeans clustering with TF-IDF weights\n",
        "\n",
        "from sklearn.feature_extraction.text import TfidfVectorizer\n",
        "from sklearn.cluster import KMeans\n",
        "import re\n",
        "import string"
      ],
      "execution_count": 1,
      "outputs": []
    },
    {
      "cell_type": "code",
      "metadata": {
        "id": "ktJiKMKJSOjJ"
      },
      "source": [
        "all_text = \"\"\"\"\n",
        "Google and Facebook are strangling the free press to death. Democracy is the loserGoogle an\n",
        "Your 60-second guide to security stuff Google touted today at Next '18\n",
        "A Guide to Using Android Without Selling Your Soul to Google\n",
        "Review: Lenovo’s Google Smart Display is pretty and intelligent\n",
        "Google Maps user spots mysterious object submerged off the coast of Greece - and no-one knows what it is\n",
        "Android is better than IOS\n",
        "In information retrieval, tf–idf or TFIDF, short for term frequency–inverse document frequency\n",
        "is a numerical statistic that is intended to reflect\n",
        "how important a word is to a document in a collection or corpus.\n",
        "It is often used as a weighting factor in searches of information retrieval\n",
        "text mining, and user modeling. The tf-idf value increases proportionally\n",
        "to the number of times a word appears in the document\n",
        "and is offset by the frequency of the word in the corpus\n",
        "\"\"\".split(\"\\n\")[1:-1]"
      ],
      "execution_count": 2,
      "outputs": []
    },
    {
      "cell_type": "code",
      "metadata": {
        "colab": {
          "base_uri": "https://localhost:8080/"
        },
        "id": "GKBJfK1BSXZR",
        "outputId": "7d328e69-e36c-408c-c3c3-70ccd56d249a"
      },
      "source": [
        "all_text"
      ],
      "execution_count": 3,
      "outputs": [
        {
          "output_type": "execute_result",
          "data": {
            "text/plain": [
              "['Google and Facebook are strangling the free press to death. Democracy is the loserGoogle an',\n",
              " \"Your 60-second guide to security stuff Google touted today at Next '18\",\n",
              " 'A Guide to Using Android Without Selling Your Soul to Google',\n",
              " 'Review: Lenovo’s Google Smart Display is pretty and intelligent',\n",
              " 'Google Maps user spots mysterious object submerged off the coast of Greece - and no-one knows what it is',\n",
              " 'Android is better than IOS',\n",
              " 'In information retrieval, tf–idf or TFIDF, short for term frequency–inverse document frequency',\n",
              " 'is a numerical statistic that is intended to reflect',\n",
              " 'how important a word is to a document in a collection or corpus.',\n",
              " 'It is often used as a weighting factor in searches of information retrieval',\n",
              " 'text mining, and user modeling. The tf-idf value increases proportionally',\n",
              " 'to the number of times a word appears in the document',\n",
              " 'and is offset by the frequency of the word in the corpus']"
            ]
          },
          "metadata": {
            "tags": []
          },
          "execution_count": 3
        }
      ]
    },
    {
      "cell_type": "code",
      "metadata": {
        "id": "9rmjo_SxSaEb"
      },
      "source": [
        "# preporpcessing and tokenizing\n",
        "def preprocessing(line):\n",
        "  line = line.lower()\n",
        "  line  = re.sub(r\"[{}]\".format(string.punctuation), \" \", line)\n",
        "  return line"
      ],
      "execution_count": 4,
      "outputs": []
    },
    {
      "cell_type": "code",
      "metadata": {
        "id": "OYS6CjxZT8sC"
      },
      "source": [
        "tfidf_vectorizer = TfidfVectorizer(preprocessor=preprocessing)\n",
        "tfidf = tfidf_vectorizer.fit_transform(all_text)"
      ],
      "execution_count": 5,
      "outputs": []
    },
    {
      "cell_type": "code",
      "metadata": {
        "id": "_V_3X4DeUMcr"
      },
      "source": [
        "kmeans = KMeans(n_clusters=2).fit(tfidf)"
      ],
      "execution_count": 6,
      "outputs": []
    },
    {
      "cell_type": "code",
      "metadata": {
        "colab": {
          "base_uri": "https://localhost:8080/"
        },
        "id": "sEcPx9kcUST8",
        "outputId": "e8add5f6-0a49-4e21-c4ef-94cccdcbe3fe"
      },
      "source": [
        "lines_for_predicting = [\"tf and idf is awesome!\", \"some androids is there\", \"I shall be happy when I meet you my love\"]\n",
        "print(kmeans.predict(tfidf_vectorizer.transform(lines_for_predicting)))"
      ],
      "execution_count": 8,
      "outputs": [
        {
          "output_type": "stream",
          "text": [
            "[0 0 0]\n"
          ],
          "name": "stdout"
        }
      ]
    },
    {
      "cell_type": "code",
      "metadata": {
        "id": "JQa4ElT-UeZK"
      },
      "source": [
        ""
      ],
      "execution_count": null,
      "outputs": []
    }
  ]
}