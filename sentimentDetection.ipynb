{
  "nbformat": 4,
  "nbformat_minor": 0,
  "metadata": {
    "colab": {
      "name": "sentimentDetection.ipynb",
      "provenance": [],
      "collapsed_sections": [],
      "authorship_tag": "ABX9TyMPApT975XalnbFlqX2uslC",
      "include_colab_link": true
    },
    "kernelspec": {
      "name": "python3",
      "display_name": "Python 3"
    },
    "language_info": {
      "name": "python"
    }
  },
  "cells": [
    {
      "cell_type": "markdown",
      "metadata": {
        "id": "view-in-github",
        "colab_type": "text"
      },
      "source": [
        "<a href=\"https://colab.research.google.com/github/Bob-Gohardani/nlp-ml/blob/main/sentimentDetection.ipynb\" target=\"_parent\"><img src=\"https://colab.research.google.com/assets/colab-badge.svg\" alt=\"Open In Colab\"/></a>"
      ]
    },
    {
      "cell_type": "code",
      "metadata": {
        "id": "YYjZIWY-zS6e"
      },
      "source": [
        "import nltk\n",
        "import numpy as np"
      ],
      "execution_count": 1,
      "outputs": []
    },
    {
      "cell_type": "code",
      "metadata": {
        "id": "jGKeiUQl14Bb"
      },
      "source": [
        "from nltk.stem import WordNetLemmatizer\n",
        "from sklearn.linear_model import LogisticRegression\n",
        "from bs4 import BeautifulSoup"
      ],
      "execution_count": 2,
      "outputs": []
    },
    {
      "cell_type": "code",
      "metadata": {
        "id": "QxwwzS1X2BOq"
      },
      "source": [
        "wordnet_lemmatizer = WordNetLemmatizer()\n",
        "stopwords = set(w.rstrip() for w in open('stopwords.txt'))"
      ],
      "execution_count": 4,
      "outputs": []
    },
    {
      "cell_type": "code",
      "metadata": {
        "id": "__uZTPI02LxQ"
      },
      "source": [
        "# get positive and negtive reviews from the source file:\n",
        "positive_reviews = BeautifulSoup(open('positive.review.txt').read())\n",
        "positive_reviews = positive_reviews.find_all('review_text')\n",
        "\n",
        "negative_reviews = BeautifulSoup(open('negative.review.txt').read())\n",
        "negative_reviews = negative_reviews.find_all('review_text')"
      ],
      "execution_count": 7,
      "outputs": []
    },
    {
      "cell_type": "code",
      "metadata": {
        "colab": {
          "base_uri": "https://localhost:8080/"
        },
        "id": "nPXwm5wuIniV",
        "outputId": "21b0e041-d4b7-41af-aa63-ce702e74e275"
      },
      "source": [
        "positive_reviews[0]"
      ],
      "execution_count": 27,
      "outputs": [
        {
          "output_type": "execute_result",
          "data": {
            "text/plain": [
              "<review_text>\n",
              "We bought this unit from Sam's Club right before a trip to Disney World. (8 hours in the car with a toddler--eek!)  However, it was/is perfect!  We still use it for trips around town when we're in massive traffic or our son is being really fussy.  The case that keeps the dvd player on the back of the seat needs a little work, but we figured out a way to make it work for us.  Also, the remote doesn't work well, but we don't really need to use it as a DVD usually lasts long enough between stops\n",
              "</review_text>"
            ]
          },
          "metadata": {
            "tags": []
          },
          "execution_count": 27
        }
      ]
    },
    {
      "cell_type": "code",
      "metadata": {
        "id": "7JHIrFsB3ntI"
      },
      "source": [
        "# shuffle positive reviews and select same number of them as negative reviews so our results are balanced\n",
        "np.random.shuffle(positive_reviews)\n",
        "positive_reviews = positive_reviews[:len(negative_reviews)]"
      ],
      "execution_count": 8,
      "outputs": []
    },
    {
      "cell_type": "code",
      "metadata": {
        "id": "SpVc5XOf38yG"
      },
      "source": [
        "# tokenzie a review (given string as input and returns list of tokens)\n",
        "\n",
        "def my_tokenizer(s):\n",
        "  s = s.lower()\n",
        "  tokens = nltk.tokenize.word_tokenize(s)\n",
        "  tokens = [t for t in tokens if len(t)>2]\n",
        "  tokens = [wordnet_lemmatizer.lemmatize(t) for t in tokens]\n",
        "  tokens = [t for t in tokens if t not in stopwords]\n",
        "\n",
        "  return tokens"
      ],
      "execution_count": 9,
      "outputs": []
    },
    {
      "cell_type": "code",
      "metadata": {
        "id": "YSBz8j6q4l2P"
      },
      "source": [
        "# this dict maps each token/word to an index. basically each word in here is a feature of our logistic regression model\n",
        "word_index_map = {}\n",
        "current_index = 0\n",
        "\n",
        "positive_tokenized = []\n",
        "negative_tokenized = []"
      ],
      "execution_count": 10,
      "outputs": []
    },
    {
      "cell_type": "code",
      "metadata": {
        "id": "rQwEZXBx5LAg"
      },
      "source": [
        "# nltk.download('punkt')\n",
        "# nltk.download('wordnet')\n",
        "\n",
        "for review in positive_reviews:\n",
        "  tokens = my_tokenizer(review.text)\n",
        "  positive_tokenized.append(tokens)\n",
        "  for token in tokens:\n",
        "    # there wouldn't be any repeated word in the word_index_map\n",
        "    if token not in word_index_map:\n",
        "      word_index_map[token] = current_index\n",
        "      current_index += 1"
      ],
      "execution_count": 16,
      "outputs": []
    },
    {
      "cell_type": "code",
      "metadata": {
        "colab": {
          "base_uri": "https://localhost:8080/"
        },
        "id": "-ovryvl9I3qG",
        "outputId": "328223f9-9609-481d-c72c-26ca34cee6ab"
      },
      "source": [
        "positive_tokenized[0][:5]"
      ],
      "execution_count": 29,
      "outputs": [
        {
          "output_type": "execute_result",
          "data": {
            "text/plain": [
              "['bought', 'this', 'unit', 'sam', 'club']"
            ]
          },
          "metadata": {
            "tags": []
          },
          "execution_count": 29
        }
      ]
    },
    {
      "cell_type": "code",
      "metadata": {
        "colab": {
          "base_uri": "https://localhost:8080/"
        },
        "id": "3kncTjTjJKD-",
        "outputId": "3fcedf63-c648-4a16-cd33-f054f0ed45e1"
      },
      "source": [
        "print(word_index_map['gift'])\n",
        "print(word_index_map['club'])"
      ],
      "execution_count": 35,
      "outputs": [
        {
          "output_type": "stream",
          "text": [
            "927\n",
            "4\n"
          ],
          "name": "stdout"
        }
      ]
    },
    {
      "cell_type": "code",
      "metadata": {
        "id": "KxTwLPQG5afY"
      },
      "source": [
        "for review in negative_reviews:\n",
        "    tokens = my_tokenizer(review.text)\n",
        "    negative_tokenized.append(tokens)\n",
        "    for token in tokens:\n",
        "        if token not in word_index_map:\n",
        "            word_index_map[token] = current_index\n",
        "            current_index += 1"
      ],
      "execution_count": 17,
      "outputs": []
    },
    {
      "cell_type": "code",
      "metadata": {
        "id": "-HD-nrvk6fO_"
      },
      "source": [
        "# bag of words tokens to vectors\n",
        "def tokens_to_vectors(tokens, label):\n",
        "  x = np.zeros(len(word_index_map)+1)\n",
        "  for t in tokens:\n",
        "    i = word_index_map[t] # get the index\n",
        "    x[i] += 1 # update how many times a word has been repeated in the review\n",
        "\n",
        "  x = x / x.sum() # normalize each vector based how many tokens are inside it\n",
        "  x[-1] = label\n",
        "  return x"
      ],
      "execution_count": 20,
      "outputs": []
    },
    {
      "cell_type": "code",
      "metadata": {
        "colab": {
          "base_uri": "https://localhost:8080/"
        },
        "id": "cvHBGgS3AG05",
        "outputId": "669e3191-012e-4a59-c728-e8071521f1da"
      },
      "source": [
        "N = len(positive_reviews) + len(negative_reviews)\n",
        "N"
      ],
      "execution_count": 36,
      "outputs": [
        {
          "output_type": "execute_result",
          "data": {
            "text/plain": [
              "2000"
            ]
          },
          "metadata": {
            "tags": []
          },
          "execution_count": 36
        }
      ]
    },
    {
      "cell_type": "code",
      "metadata": {
        "colab": {
          "base_uri": "https://localhost:8080/"
        },
        "id": "SFVVEHT-AHdH",
        "outputId": "a06d0f13-e565-4ba8-d821-9fddbd01d086"
      },
      "source": [
        "# create data matrix with N rows (number of examples) and column number of word_index_map plus the label (positive or negative)\n",
        "data = np.zeros((N, len(word_index_map)+1))\n",
        "i = 0\n",
        "\n",
        "data"
      ],
      "execution_count": 37,
      "outputs": [
        {
          "output_type": "execute_result",
          "data": {
            "text/plain": [
              "array([[0., 0., 0., ..., 0., 0., 0.],\n",
              "       [0., 0., 0., ..., 0., 0., 0.],\n",
              "       [0., 0., 0., ..., 0., 0., 0.],\n",
              "       ...,\n",
              "       [0., 0., 0., ..., 0., 0., 0.],\n",
              "       [0., 0., 0., ..., 0., 0., 0.],\n",
              "       [0., 0., 0., ..., 0., 0., 0.]])"
            ]
          },
          "metadata": {
            "tags": []
          },
          "execution_count": 37
        }
      ]
    },
    {
      "cell_type": "code",
      "metadata": {
        "id": "9a6zC3R_Leyx"
      },
      "source": [
        "# each tokens inlcudes a review string\n",
        "for tokens in positive_tokenized:\n",
        "    xy = tokens_to_vectors(tokens, 1)\n",
        "    data[i,:] = xy\n",
        "    i += 1\n",
        "\n",
        "for tokens in negative_tokenized:\n",
        "  xy = tokens_to_vectors(tokens, 0)\n",
        "  data[i,:] = xy\n",
        "  i += 1\n",
        "\n",
        "np.random.shuffle(data)"
      ],
      "execution_count": 39,
      "outputs": []
    },
    {
      "cell_type": "code",
      "metadata": {
        "colab": {
          "base_uri": "https://localhost:8080/"
        },
        "id": "qFiJX2VPLk_H",
        "outputId": "5d94ce89-5d48-4afe-bcc2-2cdaf7d551f1"
      },
      "source": [
        "data"
      ],
      "execution_count": 43,
      "outputs": [
        {
          "output_type": "execute_result",
          "data": {
            "text/plain": [
              "array([[0.        , 0.        , 0.        , ..., 0.        , 0.        ,\n",
              "        1.        ],\n",
              "       [0.        , 0.07142857, 0.        , ..., 0.        , 0.        ,\n",
              "        1.        ],\n",
              "       [0.        , 0.02941176, 0.        , ..., 0.        , 0.        ,\n",
              "        0.        ],\n",
              "       ...,\n",
              "       [0.        , 0.03448276, 0.        , ..., 0.        , 0.        ,\n",
              "        0.        ],\n",
              "       [0.        , 0.03125   , 0.        , ..., 0.        , 0.        ,\n",
              "        0.        ],\n",
              "       [0.01190476, 0.01190476, 0.10714286, ..., 0.        , 0.        ,\n",
              "        0.        ]])"
            ]
          },
          "metadata": {
            "tags": []
          },
          "execution_count": 43
        }
      ]
    },
    {
      "cell_type": "code",
      "metadata": {
        "id": "IjHti0P2CcAx"
      },
      "source": [
        "X = data[:, :-1]  # features\n",
        "Y = data[:, -1] # label"
      ],
      "execution_count": 23,
      "outputs": []
    },
    {
      "cell_type": "code",
      "metadata": {
        "id": "gW4lnuyoD1Um"
      },
      "source": [
        "# last 100 rows are the test (validation) \n",
        "Xtrain = X[:-100,]\n",
        "Ytrain = Y[:-100,]\n",
        "\n",
        "Xtest = X[-100:,]\n",
        "Ytest = Y[-100:,]"
      ],
      "execution_count": 24,
      "outputs": []
    },
    {
      "cell_type": "code",
      "metadata": {
        "colab": {
          "base_uri": "https://localhost:8080/"
        },
        "id": "Z_nC4jZ0EEEX",
        "outputId": "0b819e76-7d25-43c2-949b-fb36482dfdb9"
      },
      "source": [
        "model = LogisticRegression()\n",
        "model.fit(Xtrain, Ytrain)\n",
        "print(model.score(Xtest, Ytest))"
      ],
      "execution_count": 44,
      "outputs": [
        {
          "output_type": "stream",
          "text": [
            "0.64\n"
          ],
          "name": "stdout"
        }
      ]
    },
    {
      "cell_type": "code",
      "metadata": {
        "colab": {
          "base_uri": "https://localhost:8080/"
        },
        "id": "nGql3mCPIjxP",
        "outputId": "db2afa85-c568-4e44-e794-e734cdf02ec9"
      },
      "source": [
        "# check which words have the max impact\n",
        "threshold = 0.5\n",
        "for word, index in word_index_map.items():\n",
        "  weight = model.coef_[0][index]\n",
        "  if weight > threshold or weight < -1 * threshold:\n",
        "    print(word, weight)"
      ],
      "execution_count": 45,
      "outputs": [
        {
          "output_type": "stream",
          "text": [
            "unit -0.722835078723575\n",
            "hour -0.5344933871278992\n",
            "perfect 1.0304273371442798\n",
            "little 0.9646876272212312\n",
            "doe -1.181034004049814\n",
            "n't -2.0929078882810073\n",
            "sound 1.1277127741615791\n",
            "love 1.2198897304462806\n",
            "lot 0.7137096135601921\n",
            "speaker 0.919028070097317\n",
            "wa -1.611451203033656\n",
            "comfortable 0.6148809744293265\n",
            "space 0.5524968806600744\n",
            "feature 0.5107338897864697\n",
            "buy -0.7551888209080694\n",
            "pro 0.508430015504002\n",
            "pretty 0.6576082798276508\n",
            "you 1.2371267590594643\n",
            "home 0.5591928633709934\n",
            "quality 1.4627812684503678\n",
            "cable 0.8838747190749062\n",
            "price 2.65106186709478\n",
            "excellent 1.377225510274656\n",
            "highly 1.03792378565054\n",
            "recommend 0.6070020583198741\n",
            "picture 0.5804226470325667\n",
            "using 0.6453629018734126\n",
            "paper 0.521995792130177\n",
            "tried -0.8910856012133294\n",
            "easy 1.8404046989039844\n",
            "time -0.6481961841570271\n",
            "then -1.1123280783610467\n",
            "try -0.6874011388939075\n",
            "ha 0.6279606183648166\n",
            "money -1.036971673205191\n",
            "cheap -0.5048604506545629\n",
            "'ve 0.7522093178934673\n",
            "happy 0.5930365753675056\n",
            "bit 0.6690181155751854\n",
            "memory 0.9223747757629065\n",
            "look 0.5283941771342103\n",
            "expected 0.590373844192934\n",
            "fast 0.7765214442003231\n",
            "value 0.5695181652722566\n",
            "month -0.7477354391973848\n",
            "week -0.7385510471009051\n",
            "support -0.8603390887067682\n",
            "warranty -0.5606365669868711\n",
            "laptop 0.5525892598849242\n",
            "customer -0.6528763725772467\n",
            "video 0.5623234135975563\n",
            "bad -0.7617861507788691\n",
            "static -0.5062325838760229\n",
            "item -1.0817810052087378\n",
            "return -1.1995737463413323\n",
            "refund -0.5279139446000491\n",
            "poor -0.7037532453334692\n",
            "returned -0.7992822621128354\n",
            "company -0.5726824907999886\n",
            "junk -0.5441810368662042\n",
            "terrible -0.5267747873219053\n",
            "stopped -0.5139297720356333\n",
            "waste -1.017602253433294\n"
          ],
          "name": "stdout"
        }
      ]
    },
    {
      "cell_type": "code",
      "metadata": {
        "id": "Ut7vxqf6L51p"
      },
      "source": [
        ""
      ],
      "execution_count": null,
      "outputs": []
    }
  ]
}