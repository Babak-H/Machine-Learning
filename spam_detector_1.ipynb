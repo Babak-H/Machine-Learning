{
  "nbformat": 4,
  "nbformat_minor": 0,
  "metadata": {
    "colab": {
      "name": "spam_detector_1.ipynb",
      "provenance": [],
      "toc_visible": true,
      "authorship_tag": "ABX9TyNgKsFrbQZEW9Risz92S8mF",
      "include_colab_link": true
    },
    "kernelspec": {
      "name": "python3",
      "display_name": "Python 3"
    },
    "language_info": {
      "name": "python"
    }
  },
  "cells": [
    {
      "cell_type": "markdown",
      "metadata": {
        "id": "view-in-github",
        "colab_type": "text"
      },
      "source": [
        "<a href=\"https://colab.research.google.com/github/Bob-Gohardani/nlp-ml/blob/main/spam_detector_1.ipynb\" target=\"_parent\"><img src=\"https://colab.research.google.com/assets/colab-badge.svg\" alt=\"Open In Colab\"/></a>"
      ]
    },
    {
      "cell_type": "code",
      "metadata": {
        "id": "lxemDNtKJ-zv"
      },
      "source": [
        "import pandas as pd\n",
        "import numpy as np\n",
        "\n",
        "# MultinomialNB means that our x data is countable so we use multinomial distribution when calculating P(x|y)\n",
        "from sklearn.naive_bayes import MultinomialNB"
      ],
      "execution_count": 1,
      "outputs": []
    },
    {
      "cell_type": "code",
      "metadata": {
        "id": "2IR_4OPuKWfT"
      },
      "source": [
        "# read data with pandas\n",
        "data = pd.read_csv('spambase.data.txt').values"
      ],
      "execution_count": 4,
      "outputs": []
    },
    {
      "cell_type": "code",
      "metadata": {
        "id": "kTSJaNytK3EC"
      },
      "source": [
        "# this line will mix all rows of data so when we select test/train data it is randomized\n",
        "np.random.shuffle(data)"
      ],
      "execution_count": 5,
      "outputs": []
    },
    {
      "cell_type": "code",
      "metadata": {
        "id": "EdKFP1y9LYwq"
      },
      "source": [
        "# all rows, all columns except last one\n",
        "X = data[:, :48]\n",
        "Y = data[:, -1]"
      ],
      "execution_count": 6,
      "outputs": []
    },
    {
      "cell_type": "code",
      "metadata": {
        "id": "RAxnd_-nTqIf"
      },
      "source": [
        "# all rows except last 100 and all columns\n",
        "Xtrain = X[:100,]\n",
        "Ytrain = Y[:100,]"
      ],
      "execution_count": 7,
      "outputs": []
    },
    {
      "cell_type": "code",
      "metadata": {
        "id": "j86tE81ET48Y"
      },
      "source": [
        "Xtest = X[-100:,]\n",
        "Ytest = Y[-100:,]"
      ],
      "execution_count": 8,
      "outputs": []
    },
    {
      "cell_type": "code",
      "metadata": {
        "id": "GLvNBVR0T-o4"
      },
      "source": [
        "# create the model based on multinomial naive bayes\n",
        "model = MultinomialNB()"
      ],
      "execution_count": 9,
      "outputs": []
    },
    {
      "cell_type": "code",
      "metadata": {
        "colab": {
          "base_uri": "https://localhost:8080/"
        },
        "id": "uWbrKgfmnWH3",
        "outputId": "0c9c5dd8-478d-470c-d5d5-b93fda9a6b25"
      },
      "source": [
        "# train the model with Xtrain and Ytrain dataset\n",
        "model.fit(Xtrain, Ytrain)"
      ],
      "execution_count": 10,
      "outputs": [
        {
          "output_type": "execute_result",
          "data": {
            "text/plain": [
              "MultinomialNB(alpha=1.0, class_prior=None, fit_prior=True)"
            ]
          },
          "metadata": {
            "tags": []
          },
          "execution_count": 10
        }
      ]
    },
    {
      "cell_type": "code",
      "metadata": {
        "colab": {
          "base_uri": "https://localhost:8080/"
        },
        "id": "DQi1sZ4FneJB",
        "outputId": "b3d02c6d-aeb4-480a-9fd0-123419a220ea"
      },
      "source": [
        "# test the model with test data and find results (this is the cross-validation section since we already know the results)\n",
        "print(model.score(Xtest, Ytest))"
      ],
      "execution_count": 11,
      "outputs": [
        {
          "output_type": "stream",
          "text": [
            "0.84\n"
          ],
          "name": "stdout"
        }
      ]
    },
    {
      "cell_type": "code",
      "metadata": {
        "colab": {
          "base_uri": "https://localhost:8080/"
        },
        "id": "e7Ci3m6f3vTe",
        "outputId": "9576c426-dbed-4ee4-ee7b-0e358e759e3d"
      },
      "source": [
        "from sklearn.ensemble import AdaBoostClassifier\n",
        "\n",
        "mode = AdaBoostClassifier()\n",
        "model.fit(Xtrain, Ytrain)\n",
        "\n",
        "print(model.score(Xtest, Ytest))"
      ],
      "execution_count": 12,
      "outputs": [
        {
          "output_type": "stream",
          "text": [
            "0.84\n"
          ],
          "name": "stdout"
        }
      ]
    },
    {
      "cell_type": "code",
      "metadata": {
        "id": "p66opPrx39l3"
      },
      "source": [
        ""
      ],
      "execution_count": null,
      "outputs": []
    }
  ]
}