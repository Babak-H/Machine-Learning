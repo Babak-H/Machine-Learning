{
  "nbformat": 4,
  "nbformat_minor": 0,
  "metadata": {
    "kernelspec": {
      "display_name": "Python 3",
      "language": "python",
      "name": "python3"
    },
    "language_info": {
      "codemirror_mode": {
        "name": "ipython",
        "version": 3
      },
      "file_extension": ".py",
      "mimetype": "text/x-python",
      "name": "python",
      "nbconvert_exporter": "python",
      "pygments_lexer": "ipython3",
      "version": "3.6.6"
    },
    "colab": {
      "name": "random-forest-classifier.ipynb",
      "provenance": [],
      "include_colab_link": true
    }
  },
  "cells": [
    {
      "cell_type": "markdown",
      "metadata": {
        "id": "view-in-github",
        "colab_type": "text"
      },
      "source": [
        "<a href=\"https://colab.research.google.com/github/Bob-Gohardani/Machine-Learning/blob/main/random_forest_classifier.ipynb\" target=\"_parent\"><img src=\"https://colab.research.google.com/assets/colab-badge.svg\" alt=\"Open In Colab\"/></a>"
      ]
    },
    {
      "cell_type": "markdown",
      "metadata": {
        "id": "fL2qUtnlbsnR"
      },
      "source": [
        "<a class=\"anchor\" id=\"0\"></a>\n",
        "# Random Forest Classifier with Feature Importance\n",
        "Random Forest is a supervised machine learning algorithm which is based on ensemble learning. In this kernel, I build two Random Forest Classifier models to predict whether a person makes over 50K a year, one with 10 decision-trees and another one with 100 decision-trees. The expected accuracy increases with number of decision-trees in the model."
      ]
    },
    {
      "cell_type": "code",
      "metadata": {
        "id": "5X1WdZkgbsnU"
      },
      "source": [
        "import numpy as np # linear algebra\n",
        "import pandas as pd # data processing, CSV file I/O (e.g. pd.read_csv)\n",
        "\n",
        "import seaborn as sns\n",
        "import matplotlib.pyplot as plt\n",
        "%matplotlib inline\n",
        "\n",
        "sns.set(style=\"whitegrid\")\n",
        "import warnings\n",
        "warnings.filterwarnings('ignore')\n",
        "\n",
        "from sklearn.model_selection import train_test_split\n",
        "from sklearn.metrics import accuracy_score\n",
        "# import Random Forest classifier\n",
        "from sklearn.ensemble import RandomForestClassifier\n",
        "from sklearn.metrics import confusion_matrix"
      ],
      "execution_count": null,
      "outputs": []
    },
    {
      "cell_type": "code",
      "metadata": {
        "id": "k67q3pRubsnV"
      },
      "source": [
        "data = '/kaggle/input/income-classification/income_evaluation.csv'\n",
        "\n",
        "df = pd.read_csv(data)"
      ],
      "execution_count": null,
      "outputs": []
    },
    {
      "cell_type": "code",
      "metadata": {
        "id": "c5FD31nIbsnW",
        "outputId": "a60eb011-4d64-4728-e0a5-55ca8c4730ab"
      },
      "source": [
        "# print the shape\n",
        "print('The shape of the dataset : ', df.shape)"
      ],
      "execution_count": null,
      "outputs": [
        {
          "output_type": "stream",
          "text": [
            "The shape of the dataset :  (32561, 15)\n"
          ],
          "name": "stdout"
        }
      ]
    },
    {
      "cell_type": "code",
      "metadata": {
        "scrolled": false,
        "id": "qvLttHgpbsnX",
        "outputId": "99b19837-7f89-4b83-9938-7799707ed5b6"
      },
      "source": [
        "df.head()"
      ],
      "execution_count": null,
      "outputs": [
        {
          "output_type": "execute_result",
          "data": {
            "text/html": [
              "<div>\n",
              "<style scoped>\n",
              "    .dataframe tbody tr th:only-of-type {\n",
              "        vertical-align: middle;\n",
              "    }\n",
              "\n",
              "    .dataframe tbody tr th {\n",
              "        vertical-align: top;\n",
              "    }\n",
              "\n",
              "    .dataframe thead th {\n",
              "        text-align: right;\n",
              "    }\n",
              "</style>\n",
              "<table border=\"1\" class=\"dataframe\">\n",
              "  <thead>\n",
              "    <tr style=\"text-align: right;\">\n",
              "      <th></th>\n",
              "      <th>age</th>\n",
              "      <th>workclass</th>\n",
              "      <th>fnlwgt</th>\n",
              "      <th>education</th>\n",
              "      <th>education-num</th>\n",
              "      <th>marital-status</th>\n",
              "      <th>occupation</th>\n",
              "      <th>relationship</th>\n",
              "      <th>race</th>\n",
              "      <th>sex</th>\n",
              "      <th>capital-gain</th>\n",
              "      <th>capital-loss</th>\n",
              "      <th>hours-per-week</th>\n",
              "      <th>native-country</th>\n",
              "      <th>income</th>\n",
              "    </tr>\n",
              "  </thead>\n",
              "  <tbody>\n",
              "    <tr>\n",
              "      <td>0</td>\n",
              "      <td>39</td>\n",
              "      <td>State-gov</td>\n",
              "      <td>77516</td>\n",
              "      <td>Bachelors</td>\n",
              "      <td>13</td>\n",
              "      <td>Never-married</td>\n",
              "      <td>Adm-clerical</td>\n",
              "      <td>Not-in-family</td>\n",
              "      <td>White</td>\n",
              "      <td>Male</td>\n",
              "      <td>2174</td>\n",
              "      <td>0</td>\n",
              "      <td>40</td>\n",
              "      <td>United-States</td>\n",
              "      <td>&lt;=50K</td>\n",
              "    </tr>\n",
              "    <tr>\n",
              "      <td>1</td>\n",
              "      <td>50</td>\n",
              "      <td>Self-emp-not-inc</td>\n",
              "      <td>83311</td>\n",
              "      <td>Bachelors</td>\n",
              "      <td>13</td>\n",
              "      <td>Married-civ-spouse</td>\n",
              "      <td>Exec-managerial</td>\n",
              "      <td>Husband</td>\n",
              "      <td>White</td>\n",
              "      <td>Male</td>\n",
              "      <td>0</td>\n",
              "      <td>0</td>\n",
              "      <td>13</td>\n",
              "      <td>United-States</td>\n",
              "      <td>&lt;=50K</td>\n",
              "    </tr>\n",
              "    <tr>\n",
              "      <td>2</td>\n",
              "      <td>38</td>\n",
              "      <td>Private</td>\n",
              "      <td>215646</td>\n",
              "      <td>HS-grad</td>\n",
              "      <td>9</td>\n",
              "      <td>Divorced</td>\n",
              "      <td>Handlers-cleaners</td>\n",
              "      <td>Not-in-family</td>\n",
              "      <td>White</td>\n",
              "      <td>Male</td>\n",
              "      <td>0</td>\n",
              "      <td>0</td>\n",
              "      <td>40</td>\n",
              "      <td>United-States</td>\n",
              "      <td>&lt;=50K</td>\n",
              "    </tr>\n",
              "    <tr>\n",
              "      <td>3</td>\n",
              "      <td>53</td>\n",
              "      <td>Private</td>\n",
              "      <td>234721</td>\n",
              "      <td>11th</td>\n",
              "      <td>7</td>\n",
              "      <td>Married-civ-spouse</td>\n",
              "      <td>Handlers-cleaners</td>\n",
              "      <td>Husband</td>\n",
              "      <td>Black</td>\n",
              "      <td>Male</td>\n",
              "      <td>0</td>\n",
              "      <td>0</td>\n",
              "      <td>40</td>\n",
              "      <td>United-States</td>\n",
              "      <td>&lt;=50K</td>\n",
              "    </tr>\n",
              "    <tr>\n",
              "      <td>4</td>\n",
              "      <td>28</td>\n",
              "      <td>Private</td>\n",
              "      <td>338409</td>\n",
              "      <td>Bachelors</td>\n",
              "      <td>13</td>\n",
              "      <td>Married-civ-spouse</td>\n",
              "      <td>Prof-specialty</td>\n",
              "      <td>Wife</td>\n",
              "      <td>Black</td>\n",
              "      <td>Female</td>\n",
              "      <td>0</td>\n",
              "      <td>0</td>\n",
              "      <td>40</td>\n",
              "      <td>Cuba</td>\n",
              "      <td>&lt;=50K</td>\n",
              "    </tr>\n",
              "  </tbody>\n",
              "</table>\n",
              "</div>"
            ],
            "text/plain": [
              "   age          workclass   fnlwgt   education   education-num  \\\n",
              "0   39          State-gov    77516   Bachelors              13   \n",
              "1   50   Self-emp-not-inc    83311   Bachelors              13   \n",
              "2   38            Private   215646     HS-grad               9   \n",
              "3   53            Private   234721        11th               7   \n",
              "4   28            Private   338409   Bachelors              13   \n",
              "\n",
              "        marital-status          occupation    relationship    race      sex  \\\n",
              "0        Never-married        Adm-clerical   Not-in-family   White     Male   \n",
              "1   Married-civ-spouse     Exec-managerial         Husband   White     Male   \n",
              "2             Divorced   Handlers-cleaners   Not-in-family   White     Male   \n",
              "3   Married-civ-spouse   Handlers-cleaners         Husband   Black     Male   \n",
              "4   Married-civ-spouse      Prof-specialty            Wife   Black   Female   \n",
              "\n",
              "    capital-gain   capital-loss   hours-per-week  native-country  income  \n",
              "0           2174              0               40   United-States   <=50K  \n",
              "1              0              0               13   United-States   <=50K  \n",
              "2              0              0               40   United-States   <=50K  \n",
              "3              0              0               40   United-States   <=50K  \n",
              "4              0              0               40            Cuba   <=50K  "
            ]
          },
          "metadata": {
            "tags": []
          },
          "execution_count": 4
        }
      ]
    },
    {
      "cell_type": "code",
      "metadata": {
        "id": "FF6PSDZvbsnX",
        "outputId": "fc9a1b56-5a29-4dc2-a832-9acc917d73fe"
      },
      "source": [
        "col_names = ['age', 'workclass', 'fnlwgt', 'education', 'education_num', 'marital_status', 'occupation', 'relationship',\n",
        "             'race', 'sex', 'capital_gain', 'capital_loss', 'hours_per_week', 'native_country', 'income']\n",
        "\n",
        "df.columns = col_names\n",
        "\n",
        "df.columns"
      ],
      "execution_count": null,
      "outputs": [
        {
          "output_type": "execute_result",
          "data": {
            "text/plain": [
              "Index(['age', 'workclass', 'fnlwgt', 'education', 'education_num',\n",
              "       'marital_status', 'occupation', 'relationship', 'race', 'sex',\n",
              "       'capital_gain', 'capital_loss', 'hours_per_week', 'native_country',\n",
              "       'income'],\n",
              "      dtype='object')"
            ]
          },
          "metadata": {
            "tags": []
          },
          "execution_count": 5
        }
      ]
    },
    {
      "cell_type": "code",
      "metadata": {
        "id": "z5Hze-IVbsnY",
        "outputId": "2a40164d-0694-45c2-acb9-984b9e860b19"
      },
      "source": [
        "df.info()"
      ],
      "execution_count": null,
      "outputs": [
        {
          "output_type": "stream",
          "text": [
            "<class 'pandas.core.frame.DataFrame'>\n",
            "RangeIndex: 32561 entries, 0 to 32560\n",
            "Data columns (total 15 columns):\n",
            "age               32561 non-null int64\n",
            "workclass         32561 non-null object\n",
            "fnlwgt            32561 non-null int64\n",
            "education         32561 non-null object\n",
            "education_num     32561 non-null int64\n",
            "marital_status    32561 non-null object\n",
            "occupation        32561 non-null object\n",
            "relationship      32561 non-null object\n",
            "race              32561 non-null object\n",
            "sex               32561 non-null object\n",
            "capital_gain      32561 non-null int64\n",
            "capital_loss      32561 non-null int64\n",
            "hours_per_week    32561 non-null int64\n",
            "native_country    32561 non-null object\n",
            "income            32561 non-null object\n",
            "dtypes: int64(6), object(9)\n",
            "memory usage: 3.7+ MB\n"
          ],
          "name": "stdout"
        }
      ]
    },
    {
      "cell_type": "markdown",
      "metadata": {
        "id": "JlesIJofbsnY"
      },
      "source": [
        "#### Findings\n",
        "\n",
        "- We can see that the dataset contains 9 character variables and 6 numerical variables.\n",
        "\n",
        "- `income` is the target variable.\n",
        "\n",
        "- There are no missing values in the dataset."
      ]
    },
    {
      "cell_type": "code",
      "metadata": {
        "id": "plj8ClFFbsnY",
        "outputId": "3865dc15-be26-49b8-cdae-3601ab14585e"
      },
      "source": [
        "df.dtypes"
      ],
      "execution_count": null,
      "outputs": [
        {
          "output_type": "execute_result",
          "data": {
            "text/plain": [
              "age                int64\n",
              "workclass         object\n",
              "fnlwgt             int64\n",
              "education         object\n",
              "education_num      int64\n",
              "marital_status    object\n",
              "occupation        object\n",
              "relationship      object\n",
              "race              object\n",
              "sex               object\n",
              "capital_gain       int64\n",
              "capital_loss       int64\n",
              "hours_per_week     int64\n",
              "native_country    object\n",
              "income            object\n",
              "dtype: object"
            ]
          },
          "metadata": {
            "tags": []
          },
          "execution_count": 7
        }
      ]
    },
    {
      "cell_type": "code",
      "metadata": {
        "id": "TIzkXg3KbsnZ",
        "outputId": "721ff6e5-eba9-4342-ed2d-c9c9b721a4ca"
      },
      "source": [
        "df.describe()"
      ],
      "execution_count": null,
      "outputs": [
        {
          "output_type": "execute_result",
          "data": {
            "text/html": [
              "<div>\n",
              "<style scoped>\n",
              "    .dataframe tbody tr th:only-of-type {\n",
              "        vertical-align: middle;\n",
              "    }\n",
              "\n",
              "    .dataframe tbody tr th {\n",
              "        vertical-align: top;\n",
              "    }\n",
              "\n",
              "    .dataframe thead th {\n",
              "        text-align: right;\n",
              "    }\n",
              "</style>\n",
              "<table border=\"1\" class=\"dataframe\">\n",
              "  <thead>\n",
              "    <tr style=\"text-align: right;\">\n",
              "      <th></th>\n",
              "      <th>age</th>\n",
              "      <th>fnlwgt</th>\n",
              "      <th>education_num</th>\n",
              "      <th>capital_gain</th>\n",
              "      <th>capital_loss</th>\n",
              "      <th>hours_per_week</th>\n",
              "    </tr>\n",
              "  </thead>\n",
              "  <tbody>\n",
              "    <tr>\n",
              "      <td>count</td>\n",
              "      <td>32561.000000</td>\n",
              "      <td>3.256100e+04</td>\n",
              "      <td>32561.000000</td>\n",
              "      <td>32561.000000</td>\n",
              "      <td>32561.000000</td>\n",
              "      <td>32561.000000</td>\n",
              "    </tr>\n",
              "    <tr>\n",
              "      <td>mean</td>\n",
              "      <td>38.581647</td>\n",
              "      <td>1.897784e+05</td>\n",
              "      <td>10.080679</td>\n",
              "      <td>1077.648844</td>\n",
              "      <td>87.303830</td>\n",
              "      <td>40.437456</td>\n",
              "    </tr>\n",
              "    <tr>\n",
              "      <td>std</td>\n",
              "      <td>13.640433</td>\n",
              "      <td>1.055500e+05</td>\n",
              "      <td>2.572720</td>\n",
              "      <td>7385.292085</td>\n",
              "      <td>402.960219</td>\n",
              "      <td>12.347429</td>\n",
              "    </tr>\n",
              "    <tr>\n",
              "      <td>min</td>\n",
              "      <td>17.000000</td>\n",
              "      <td>1.228500e+04</td>\n",
              "      <td>1.000000</td>\n",
              "      <td>0.000000</td>\n",
              "      <td>0.000000</td>\n",
              "      <td>1.000000</td>\n",
              "    </tr>\n",
              "    <tr>\n",
              "      <td>25%</td>\n",
              "      <td>28.000000</td>\n",
              "      <td>1.178270e+05</td>\n",
              "      <td>9.000000</td>\n",
              "      <td>0.000000</td>\n",
              "      <td>0.000000</td>\n",
              "      <td>40.000000</td>\n",
              "    </tr>\n",
              "    <tr>\n",
              "      <td>50%</td>\n",
              "      <td>37.000000</td>\n",
              "      <td>1.783560e+05</td>\n",
              "      <td>10.000000</td>\n",
              "      <td>0.000000</td>\n",
              "      <td>0.000000</td>\n",
              "      <td>40.000000</td>\n",
              "    </tr>\n",
              "    <tr>\n",
              "      <td>75%</td>\n",
              "      <td>48.000000</td>\n",
              "      <td>2.370510e+05</td>\n",
              "      <td>12.000000</td>\n",
              "      <td>0.000000</td>\n",
              "      <td>0.000000</td>\n",
              "      <td>45.000000</td>\n",
              "    </tr>\n",
              "    <tr>\n",
              "      <td>max</td>\n",
              "      <td>90.000000</td>\n",
              "      <td>1.484705e+06</td>\n",
              "      <td>16.000000</td>\n",
              "      <td>99999.000000</td>\n",
              "      <td>4356.000000</td>\n",
              "      <td>99.000000</td>\n",
              "    </tr>\n",
              "  </tbody>\n",
              "</table>\n",
              "</div>"
            ],
            "text/plain": [
              "                age        fnlwgt  education_num  capital_gain  capital_loss  \\\n",
              "count  32561.000000  3.256100e+04   32561.000000  32561.000000  32561.000000   \n",
              "mean      38.581647  1.897784e+05      10.080679   1077.648844     87.303830   \n",
              "std       13.640433  1.055500e+05       2.572720   7385.292085    402.960219   \n",
              "min       17.000000  1.228500e+04       1.000000      0.000000      0.000000   \n",
              "25%       28.000000  1.178270e+05       9.000000      0.000000      0.000000   \n",
              "50%       37.000000  1.783560e+05      10.000000      0.000000      0.000000   \n",
              "75%       48.000000  2.370510e+05      12.000000      0.000000      0.000000   \n",
              "max       90.000000  1.484705e+06      16.000000  99999.000000   4356.000000   \n",
              "\n",
              "       hours_per_week  \n",
              "count    32561.000000  \n",
              "mean        40.437456  \n",
              "std         12.347429  \n",
              "min          1.000000  \n",
              "25%         40.000000  \n",
              "50%         40.000000  \n",
              "75%         45.000000  \n",
              "max         99.000000  "
            ]
          },
          "metadata": {
            "tags": []
          },
          "execution_count": 8
        }
      ]
    },
    {
      "cell_type": "markdown",
      "metadata": {
        "id": "41IMx0tdbsnZ"
      },
      "source": [
        "- The above `df.describe()` command presents statistical properties in vertical form."
      ]
    },
    {
      "cell_type": "markdown",
      "metadata": {
        "id": "kkIi8OV8bsnZ"
      },
      "source": [
        "#### Useful commands to detect missing values \n",
        "\n",
        "- **df.isnull()**\n",
        "\n",
        "The above command checks whether each cell in a dataframe contains missing values or not. If the cell contains missing value, it returns True otherwise it returns False.\n",
        "\n",
        "- **df.isnull().sum()**\n",
        "\n",
        "The above command returns total number of missing values in each column in the dataframe.\n",
        "\n",
        "- **df.isnull().sum().sum()**\n",
        "\n",
        "It returns total number of missing values in the dataframe.\n",
        "\n",
        "\n",
        "- **df.isnull().mean()**\n",
        "\n",
        "It returns percentage of missing values in each column in the dataframe.\n",
        "\n",
        "\n",
        "- **df.isnull().any()**\n",
        "\n",
        "It checks which column has null values and which has not. The columns which has null values returns TRUE and FALSE otherwise."
      ]
    },
    {
      "cell_type": "code",
      "metadata": {
        "id": "YqZqiKytbsna",
        "outputId": "5e138969-2308-4990-d9f9-86816d9a052f"
      },
      "source": [
        "# check for missing values\n",
        "\n",
        "df.isnull().sum()"
      ],
      "execution_count": null,
      "outputs": [
        {
          "output_type": "execute_result",
          "data": {
            "text/plain": [
              "age               0\n",
              "workclass         0\n",
              "fnlwgt            0\n",
              "education         0\n",
              "education_num     0\n",
              "marital_status    0\n",
              "occupation        0\n",
              "relationship      0\n",
              "race              0\n",
              "sex               0\n",
              "capital_gain      0\n",
              "capital_loss      0\n",
              "hours_per_week    0\n",
              "native_country    0\n",
              "income            0\n",
              "dtype: int64"
            ]
          },
          "metadata": {
            "tags": []
          },
          "execution_count": 9
        }
      ]
    },
    {
      "cell_type": "markdown",
      "metadata": {
        "id": "wv3O4SpObsna"
      },
      "source": [
        "#### Interpretation\n",
        "\n",
        "We can see that there are no missing values in the dataset."
      ]
    },
    {
      "cell_type": "code",
      "metadata": {
        "id": "--YWq-HGbsna"
      },
      "source": [
        "#assert that there are no missing values in the dataframe\n",
        "\n",
        "assert pd.notnull(df).all().all()"
      ],
      "execution_count": null,
      "outputs": []
    },
    {
      "cell_type": "markdown",
      "metadata": {
        "id": "uC4HK2BMbsna"
      },
      "source": [
        "### 4.9 Functional approach to EDA <a class=\"anchor\" id=\"4.9\"></a>\n",
        "\n",
        "- An alternative approach to EDA is to write a function that presents initial EDA of dataset.\n",
        "\n",
        "- We can write such a function as follows :-"
      ]
    },
    {
      "cell_type": "code",
      "metadata": {
        "id": "49WOhXdvbsnb"
      },
      "source": [
        "def initial_eda(df):\n",
        "    if isinstance(df, pd.DataFrame):\n",
        "        total_na = df.isna().sum().sum()\n",
        "        print(\"Dimensions : %d rows, %d columns\" % (df.shape[0], df.shape[1]))\n",
        "        print(\"Total NA Values : %d \" % (total_na))\n",
        "        print(\"%38s %10s     %10s %10s\" % (\"Column Name\", \"Data Type\", \"#Distinct\", \"NA Values\"))\n",
        "        col_name = df.columns\n",
        "        dtyp = df.dtypes\n",
        "        uniq = df.nunique()\n",
        "        na_val = df.isna().sum()\n",
        "        for i in range(len(df.columns)):\n",
        "            print(\"%38s %10s   %10s %10s\" % (col_name[i], dtyp[i], uniq[i], na_val[i]))\n",
        "        \n",
        "    else:\n",
        "        print(\"Expect a DataFrame but got a %15s\" % (type(df)))\n"
      ],
      "execution_count": null,
      "outputs": []
    },
    {
      "cell_type": "code",
      "metadata": {
        "id": "OFi0MtUKbsnb",
        "outputId": "ff49f1c6-0664-4eb7-f293-e5623bdcb0bb"
      },
      "source": [
        "initial_eda(df)"
      ],
      "execution_count": null,
      "outputs": [
        {
          "output_type": "stream",
          "text": [
            "Dimensions : 32561 rows, 15 columns\n",
            "Total NA Values : 0 \n",
            "                           Column Name  Data Type      #Distinct  NA Values\n",
            "                                   age      int64           73          0\n",
            "                             workclass     object            9          0\n",
            "                                fnlwgt      int64        21648          0\n",
            "                             education     object           16          0\n",
            "                         education_num      int64           16          0\n",
            "                        marital_status     object            7          0\n",
            "                            occupation     object           15          0\n",
            "                          relationship     object            6          0\n",
            "                                  race     object            5          0\n",
            "                                   sex     object            2          0\n",
            "                          capital_gain      int64          119          0\n",
            "                          capital_loss      int64           92          0\n",
            "                        hours_per_week      int64           94          0\n",
            "                        native_country     object           42          0\n",
            "                                income     object            2          0\n"
          ],
          "name": "stdout"
        }
      ]
    },
    {
      "cell_type": "markdown",
      "metadata": {
        "id": "k2VRyDYebsnb"
      },
      "source": [
        "### Types of variables\n",
        "\n",
        "- In this section, I segregate the dataset into categorical and numerical variables. \n",
        "- There are a mixture of categorical and numerical variables in the dataset. \n",
        "- Categorical variables have data type object. Numerical variables have data type int64."
      ]
    },
    {
      "cell_type": "code",
      "metadata": {
        "id": "82_0PxE0bsnc",
        "outputId": "370c1049-47f3-46ed-e854-554ad0367ada"
      },
      "source": [
        "categorical = [var for var in df.columns if df[var].dtype=='O']\n",
        "\n",
        "print('There are {} categorical variables\\n'.format(len(categorical)))\n",
        "\n",
        "print('The categorical variables are :\\n\\n', categorical)"
      ],
      "execution_count": null,
      "outputs": [
        {
          "output_type": "stream",
          "text": [
            "There are 9 categorical variables\n",
            "\n",
            "The categorical variables are :\n",
            "\n",
            " ['workclass', 'education', 'marital_status', 'occupation', 'relationship', 'race', 'sex', 'native_country', 'income']\n"
          ],
          "name": "stdout"
        }
      ]
    },
    {
      "cell_type": "code",
      "metadata": {
        "id": "Qnx-x-3Obsnc",
        "outputId": "04a094e9-5daf-40dc-d61f-4bf4230f0cdd"
      },
      "source": [
        "df[categorical].head()"
      ],
      "execution_count": null,
      "outputs": [
        {
          "output_type": "execute_result",
          "data": {
            "text/html": [
              "<div>\n",
              "<style scoped>\n",
              "    .dataframe tbody tr th:only-of-type {\n",
              "        vertical-align: middle;\n",
              "    }\n",
              "\n",
              "    .dataframe tbody tr th {\n",
              "        vertical-align: top;\n",
              "    }\n",
              "\n",
              "    .dataframe thead th {\n",
              "        text-align: right;\n",
              "    }\n",
              "</style>\n",
              "<table border=\"1\" class=\"dataframe\">\n",
              "  <thead>\n",
              "    <tr style=\"text-align: right;\">\n",
              "      <th></th>\n",
              "      <th>workclass</th>\n",
              "      <th>education</th>\n",
              "      <th>marital_status</th>\n",
              "      <th>occupation</th>\n",
              "      <th>relationship</th>\n",
              "      <th>race</th>\n",
              "      <th>sex</th>\n",
              "      <th>native_country</th>\n",
              "      <th>income</th>\n",
              "    </tr>\n",
              "  </thead>\n",
              "  <tbody>\n",
              "    <tr>\n",
              "      <td>0</td>\n",
              "      <td>State-gov</td>\n",
              "      <td>Bachelors</td>\n",
              "      <td>Never-married</td>\n",
              "      <td>Adm-clerical</td>\n",
              "      <td>Not-in-family</td>\n",
              "      <td>White</td>\n",
              "      <td>Male</td>\n",
              "      <td>United-States</td>\n",
              "      <td>&lt;=50K</td>\n",
              "    </tr>\n",
              "    <tr>\n",
              "      <td>1</td>\n",
              "      <td>Self-emp-not-inc</td>\n",
              "      <td>Bachelors</td>\n",
              "      <td>Married-civ-spouse</td>\n",
              "      <td>Exec-managerial</td>\n",
              "      <td>Husband</td>\n",
              "      <td>White</td>\n",
              "      <td>Male</td>\n",
              "      <td>United-States</td>\n",
              "      <td>&lt;=50K</td>\n",
              "    </tr>\n",
              "    <tr>\n",
              "      <td>2</td>\n",
              "      <td>Private</td>\n",
              "      <td>HS-grad</td>\n",
              "      <td>Divorced</td>\n",
              "      <td>Handlers-cleaners</td>\n",
              "      <td>Not-in-family</td>\n",
              "      <td>White</td>\n",
              "      <td>Male</td>\n",
              "      <td>United-States</td>\n",
              "      <td>&lt;=50K</td>\n",
              "    </tr>\n",
              "    <tr>\n",
              "      <td>3</td>\n",
              "      <td>Private</td>\n",
              "      <td>11th</td>\n",
              "      <td>Married-civ-spouse</td>\n",
              "      <td>Handlers-cleaners</td>\n",
              "      <td>Husband</td>\n",
              "      <td>Black</td>\n",
              "      <td>Male</td>\n",
              "      <td>United-States</td>\n",
              "      <td>&lt;=50K</td>\n",
              "    </tr>\n",
              "    <tr>\n",
              "      <td>4</td>\n",
              "      <td>Private</td>\n",
              "      <td>Bachelors</td>\n",
              "      <td>Married-civ-spouse</td>\n",
              "      <td>Prof-specialty</td>\n",
              "      <td>Wife</td>\n",
              "      <td>Black</td>\n",
              "      <td>Female</td>\n",
              "      <td>Cuba</td>\n",
              "      <td>&lt;=50K</td>\n",
              "    </tr>\n",
              "  </tbody>\n",
              "</table>\n",
              "</div>"
            ],
            "text/plain": [
              "           workclass   education       marital_status          occupation  \\\n",
              "0          State-gov   Bachelors        Never-married        Adm-clerical   \n",
              "1   Self-emp-not-inc   Bachelors   Married-civ-spouse     Exec-managerial   \n",
              "2            Private     HS-grad             Divorced   Handlers-cleaners   \n",
              "3            Private        11th   Married-civ-spouse   Handlers-cleaners   \n",
              "4            Private   Bachelors   Married-civ-spouse      Prof-specialty   \n",
              "\n",
              "     relationship    race      sex  native_country  income  \n",
              "0   Not-in-family   White     Male   United-States   <=50K  \n",
              "1         Husband   White     Male   United-States   <=50K  \n",
              "2   Not-in-family   White     Male   United-States   <=50K  \n",
              "3         Husband   Black     Male   United-States   <=50K  \n",
              "4            Wife   Black   Female            Cuba   <=50K  "
            ]
          },
          "metadata": {
            "tags": []
          },
          "execution_count": 14
        }
      ]
    },
    {
      "cell_type": "markdown",
      "metadata": {
        "id": "QRjVMJypbsnc"
      },
      "source": [
        "- There are 9 categorical variables in the dataset.\n",
        "\n",
        "- The categorical variables are given by `workclass`, `education`, `marital_status`, `occupation`, `relationship`, `race`, `sex`, `native_country` and `income`.\n",
        "\n",
        "- `income` is the target variable."
      ]
    },
    {
      "cell_type": "markdown",
      "metadata": {
        "id": "-IVz18P6bsnd"
      },
      "source": [
        "Frequency distribution of categorical variables "
      ]
    },
    {
      "cell_type": "code",
      "metadata": {
        "id": "qXFaaTEQbsnd",
        "outputId": "d85f5d47-d6c1-4859-bd7c-fe26e73ac817"
      },
      "source": [
        "for var in categorical: \n",
        "    \n",
        "    print(df[var].value_counts())"
      ],
      "execution_count": null,
      "outputs": [
        {
          "output_type": "stream",
          "text": [
            " Private             22696\n",
            " Self-emp-not-inc     2541\n",
            " Local-gov            2093\n",
            " ?                    1836\n",
            " State-gov            1298\n",
            " Self-emp-inc         1116\n",
            " Federal-gov           960\n",
            " Without-pay            14\n",
            " Never-worked            7\n",
            "Name: workclass, dtype: int64\n",
            " HS-grad         10501\n",
            " Some-college     7291\n",
            " Bachelors        5355\n",
            " Masters          1723\n",
            " Assoc-voc        1382\n",
            " 11th             1175\n",
            " Assoc-acdm       1067\n",
            " 10th              933\n",
            " 7th-8th           646\n",
            " Prof-school       576\n",
            " 9th               514\n",
            " 12th              433\n",
            " Doctorate         413\n",
            " 5th-6th           333\n",
            " 1st-4th           168\n",
            " Preschool          51\n",
            "Name: education, dtype: int64\n",
            " Married-civ-spouse       14976\n",
            " Never-married            10683\n",
            " Divorced                  4443\n",
            " Separated                 1025\n",
            " Widowed                    993\n",
            " Married-spouse-absent      418\n",
            " Married-AF-spouse           23\n",
            "Name: marital_status, dtype: int64\n",
            " Prof-specialty       4140\n",
            " Craft-repair         4099\n",
            " Exec-managerial      4066\n",
            " Adm-clerical         3770\n",
            " Sales                3650\n",
            " Other-service        3295\n",
            " Machine-op-inspct    2002\n",
            " ?                    1843\n",
            " Transport-moving     1597\n",
            " Handlers-cleaners    1370\n",
            " Farming-fishing       994\n",
            " Tech-support          928\n",
            " Protective-serv       649\n",
            " Priv-house-serv       149\n",
            " Armed-Forces            9\n",
            "Name: occupation, dtype: int64\n",
            " Husband           13193\n",
            " Not-in-family      8305\n",
            " Own-child          5068\n",
            " Unmarried          3446\n",
            " Wife               1568\n",
            " Other-relative      981\n",
            "Name: relationship, dtype: int64\n",
            " White                 27816\n",
            " Black                  3124\n",
            " Asian-Pac-Islander     1039\n",
            " Amer-Indian-Eskimo      311\n",
            " Other                   271\n",
            "Name: race, dtype: int64\n",
            " Male      21790\n",
            " Female    10771\n",
            "Name: sex, dtype: int64\n",
            " United-States                 29170\n",
            " Mexico                          643\n",
            " ?                               583\n",
            " Philippines                     198\n",
            " Germany                         137\n",
            " Canada                          121\n",
            " Puerto-Rico                     114\n",
            " El-Salvador                     106\n",
            " India                           100\n",
            " Cuba                             95\n",
            " England                          90\n",
            " Jamaica                          81\n",
            " South                            80\n",
            " China                            75\n",
            " Italy                            73\n",
            " Dominican-Republic               70\n",
            " Vietnam                          67\n",
            " Guatemala                        64\n",
            " Japan                            62\n",
            " Poland                           60\n",
            " Columbia                         59\n",
            " Taiwan                           51\n",
            " Haiti                            44\n",
            " Iran                             43\n",
            " Portugal                         37\n",
            " Nicaragua                        34\n",
            " Peru                             31\n",
            " Greece                           29\n",
            " France                           29\n",
            " Ecuador                          28\n",
            " Ireland                          24\n",
            " Hong                             20\n",
            " Cambodia                         19\n",
            " Trinadad&Tobago                  19\n",
            " Laos                             18\n",
            " Thailand                         18\n",
            " Yugoslavia                       16\n",
            " Outlying-US(Guam-USVI-etc)       14\n",
            " Hungary                          13\n",
            " Honduras                         13\n",
            " Scotland                         12\n",
            " Holand-Netherlands                1\n",
            "Name: native_country, dtype: int64\n",
            " <=50K    24720\n",
            " >50K      7841\n",
            "Name: income, dtype: int64\n"
          ],
          "name": "stdout"
        }
      ]
    },
    {
      "cell_type": "markdown",
      "metadata": {
        "id": "tBjbcbgGbsnd"
      },
      "source": [
        "#### Explore `income` target variable "
      ]
    },
    {
      "cell_type": "code",
      "metadata": {
        "id": "ZlacUoODbsnd",
        "outputId": "e2a44ae0-c080-4883-a4db-dfa515a68b45"
      },
      "source": [
        "# check for missing values\n",
        "\n",
        "df['income'].isnull().sum()"
      ],
      "execution_count": null,
      "outputs": [
        {
          "output_type": "execute_result",
          "data": {
            "text/plain": [
              "0"
            ]
          },
          "metadata": {
            "tags": []
          },
          "execution_count": 16
        }
      ]
    },
    {
      "cell_type": "markdown",
      "metadata": {
        "id": "ddQ4p1kNbsne"
      },
      "source": [
        "We can see that there are no missing values in the `income` target variable."
      ]
    },
    {
      "cell_type": "code",
      "metadata": {
        "id": "qiCeHIzGbsne",
        "outputId": "0a54434a-f50a-4a47-95dc-bef8f6434349"
      },
      "source": [
        "# view number of unique values\n",
        "\n",
        "df['income'].nunique()"
      ],
      "execution_count": null,
      "outputs": [
        {
          "output_type": "execute_result",
          "data": {
            "text/plain": [
              "2"
            ]
          },
          "metadata": {
            "tags": []
          },
          "execution_count": 17
        }
      ]
    },
    {
      "cell_type": "markdown",
      "metadata": {
        "id": "CO5jQ7g-bsne"
      },
      "source": [
        "There are 2 unique values in the `income` variable."
      ]
    },
    {
      "cell_type": "code",
      "metadata": {
        "id": "8kFDsvfebsne",
        "outputId": "a8c0deb1-8f47-410d-c37a-c1a930f3b8de"
      },
      "source": [
        "# view the unique values\n",
        "\n",
        "df['income'].unique()"
      ],
      "execution_count": null,
      "outputs": [
        {
          "output_type": "execute_result",
          "data": {
            "text/plain": [
              "array([' <=50K', ' >50K'], dtype=object)"
            ]
          },
          "metadata": {
            "tags": []
          },
          "execution_count": 18
        }
      ]
    },
    {
      "cell_type": "markdown",
      "metadata": {
        "id": "K8j0ebQKbsnf"
      },
      "source": [
        "The two unique values are `<=50K` and `>50K`."
      ]
    },
    {
      "cell_type": "code",
      "metadata": {
        "id": "z7N55JWLbsnf",
        "outputId": "697beb7b-66f1-431e-cdcd-1a2faf0b0c4c"
      },
      "source": [
        "# view the frequency distribution of values\n",
        "\n",
        "df['income'].value_counts()"
      ],
      "execution_count": null,
      "outputs": [
        {
          "output_type": "execute_result",
          "data": {
            "text/plain": [
              " <=50K    24720\n",
              " >50K      7841\n",
              "Name: income, dtype: int64"
            ]
          },
          "metadata": {
            "tags": []
          },
          "execution_count": 19
        }
      ]
    },
    {
      "cell_type": "code",
      "metadata": {
        "id": "TmafaTs3bsnf",
        "outputId": "8198634d-a577-407a-aceb-6b566eeac5d2"
      },
      "source": [
        "# view percentage of frequency distribution of values\n",
        "\n",
        "df['income'].value_counts()/len(df)"
      ],
      "execution_count": null,
      "outputs": [
        {
          "output_type": "execute_result",
          "data": {
            "text/plain": [
              " <=50K    0.75919\n",
              " >50K     0.24081\n",
              "Name: income, dtype: float64"
            ]
          },
          "metadata": {
            "tags": []
          },
          "execution_count": 20
        }
      ]
    },
    {
      "cell_type": "code",
      "metadata": {
        "id": "NeOTVEgYbsnf",
        "outputId": "878760ad-59e2-4c16-f710-010f8dd3f409"
      },
      "source": [
        "# visualize frequency distribution of income variable\n",
        "\n",
        "f,ax=plt.subplots(1,2,figsize=(18,8))\n",
        "\n",
        "ax[0] = df['income'].value_counts().plot.pie(explode=[0,0],autopct='%1.1f%%',ax=ax[0],shadow=True)\n",
        "ax[0].set_title('Income Share')\n",
        "\n",
        "\n",
        "#f, ax = plt.subplots(figsize=(6, 8))\n",
        "ax[1] = sns.countplot(x=\"income\", data=df, palette=\"Set1\")\n",
        "ax[1].set_title(\"Frequency distribution of income variable\")\n",
        "\n",
        "plt.show()"
      ],
      "execution_count": null,
      "outputs": [
        {
          "output_type": "display_data",
          "data": {
            "image/png": "[encoded data removed]",
            "text/plain": [
              "<Figure size 1296x576 with 2 Axes>"
            ]
          },
          "metadata": {
            "tags": [],
            "needs_background": "light"
          }
        }
      ]
    },
    {
      "cell_type": "markdown",
      "metadata": {
        "id": "gKyf-hoobsng"
      },
      "source": [
        "#### Visualize `income` and `sex` variables"
      ]
    },
    {
      "cell_type": "code",
      "metadata": {
        "id": "9xUH78xqbsng",
        "outputId": "68649dd4-79e2-466e-8e0d-3eef7c8ebc82"
      },
      "source": [
        "f, ax = plt.subplots(figsize=(10, 8))\n",
        "ax = sns.countplot(x=\"income\", hue=\"sex\", data=df, palette=\"Set1\")\n",
        "ax.set_title(\"Frequency distribution of income variable wrt sex\")\n",
        "plt.show()"
      ],
      "execution_count": null,
      "outputs": [
        {
          "output_type": "display_data",
          "data": {
            "image/png": "[encoded data removed]",
            "text/plain": [
              "<Figure size 720x576 with 1 Axes>"
            ]
          },
          "metadata": {
            "tags": [],
            "needs_background": "light"
          }
        }
      ]
    },
    {
      "cell_type": "code",
      "metadata": {
        "id": "wURsqmq4bsng",
        "outputId": "29be90aa-0597-458e-db00-447497c6b362"
      },
      "source": [
        "# check number of unique labels \n",
        "\n",
        "df.workclass.nunique()"
      ],
      "execution_count": null,
      "outputs": [
        {
          "output_type": "execute_result",
          "data": {
            "text/plain": [
              "9"
            ]
          },
          "metadata": {
            "tags": []
          },
          "execution_count": 23
        }
      ]
    },
    {
      "cell_type": "code",
      "metadata": {
        "id": "-eaQA4d5bsnh",
        "outputId": "a886cc83-e5af-406e-852a-aa186edf7f41"
      },
      "source": [
        "# view the unique labels\n",
        "\n",
        "df.workclass.unique()"
      ],
      "execution_count": null,
      "outputs": [
        {
          "output_type": "execute_result",
          "data": {
            "text/plain": [
              "array([' State-gov', ' Self-emp-not-inc', ' Private', ' Federal-gov',\n",
              "       ' Local-gov', ' ?', ' Self-emp-inc', ' Without-pay',\n",
              "       ' Never-worked'], dtype=object)"
            ]
          },
          "metadata": {
            "tags": []
          },
          "execution_count": 24
        }
      ]
    },
    {
      "cell_type": "code",
      "metadata": {
        "id": "IQ9f9stxbsnh",
        "outputId": "af82ba08-f4bc-47ce-b65a-bcbfe606f59f"
      },
      "source": [
        "# view frequency distribution of values\n",
        "\n",
        "df.workclass.value_counts()"
      ],
      "execution_count": null,
      "outputs": [
        {
          "output_type": "execute_result",
          "data": {
            "text/plain": [
              " Private             22696\n",
              " Self-emp-not-inc     2541\n",
              " Local-gov            2093\n",
              " ?                    1836\n",
              " State-gov            1298\n",
              " Self-emp-inc         1116\n",
              " Federal-gov           960\n",
              " Without-pay            14\n",
              " Never-worked            7\n",
              "Name: workclass, dtype: int64"
            ]
          },
          "metadata": {
            "tags": []
          },
          "execution_count": 25
        }
      ]
    },
    {
      "cell_type": "markdown",
      "metadata": {
        "id": "XeLWjKMTbsnh"
      },
      "source": [
        "We can see that there are 1836 values encoded as `?` in workclass variable. I will replace these `?` with `NaN`."
      ]
    },
    {
      "cell_type": "code",
      "metadata": {
        "id": "glCucgXAbsnj"
      },
      "source": [
        "# replace '?' values in workclass variable with `NaN`\n",
        "\n",
        "df['workclass'].replace(' ?', np.NaN, inplace=True)"
      ],
      "execution_count": null,
      "outputs": []
    },
    {
      "cell_type": "code",
      "metadata": {
        "id": "yb2D8-K3bsnk",
        "outputId": "15602364-8ffa-4820-875e-d436d73bc570"
      },
      "source": [
        "# again check the frequency distribution of values in workclass variable\n",
        "\n",
        "df.workclass.value_counts()"
      ],
      "execution_count": null,
      "outputs": [
        {
          "output_type": "execute_result",
          "data": {
            "text/plain": [
              " Private             22696\n",
              " Self-emp-not-inc     2541\n",
              " Local-gov            2093\n",
              " State-gov            1298\n",
              " Self-emp-inc         1116\n",
              " Federal-gov           960\n",
              " Without-pay            14\n",
              " Never-worked            7\n",
              "Name: workclass, dtype: int64"
            ]
          },
          "metadata": {
            "tags": []
          },
          "execution_count": 27
        }
      ]
    },
    {
      "cell_type": "markdown",
      "metadata": {
        "id": "PZpyWryPbsnk"
      },
      "source": [
        "- Now, we can see that there are no values encoded as `?` in the workclass variable.\n",
        "\n",
        "- I will adopt similar approach with `occupation` and `native_country` column."
      ]
    },
    {
      "cell_type": "markdown",
      "metadata": {
        "id": "zUEb2RX6bsnk"
      },
      "source": [
        "#### Visualize `workclass` variable"
      ]
    },
    {
      "cell_type": "code",
      "metadata": {
        "id": "WKqyGgmNbsnl",
        "outputId": "7b954970-c0ed-4e27-af61-5cde3306997f"
      },
      "source": [
        "f, ax = plt.subplots(figsize=(10, 6))\n",
        "ax = df.workclass.value_counts().plot(kind=\"bar\", color=\"green\")\n",
        "ax.set_title(\"Frequency distribution of workclass variable\")\n",
        "ax.set_xticklabels(df.workclass.value_counts().index, rotation=30)\n",
        "plt.show()"
      ],
      "execution_count": null,
      "outputs": [
        {
          "output_type": "display_data",
          "data": {
            "image/png": "[encoded data removed]",
            "text/plain": [
              "<Figure size 720x432 with 1 Axes>"
            ]
          },
          "metadata": {
            "tags": [],
            "needs_background": "light"
          }
        }
      ]
    },
    {
      "cell_type": "markdown",
      "metadata": {
        "id": "dlFp9Ux8bsnl"
      },
      "source": [
        "#### Visualize `workclass` variable wrt `income` variable"
      ]
    },
    {
      "cell_type": "markdown",
      "metadata": {
        "id": "6Z88aHP2bsnl"
      },
      "source": [
        "#### Visualize `workclass` variable wrt `sex` variable"
      ]
    },
    {
      "cell_type": "code",
      "metadata": {
        "id": "ngmHpEwRbsnm",
        "outputId": "ea4e915c-2e47-4e3f-f7e0-3c2d8b10e25e"
      },
      "source": [
        "f, ax = plt.subplots(figsize=(12, 8))\n",
        "ax = sns.countplot(x=\"workclass\", hue=\"sex\", data=df, palette=\"Set1\")\n",
        "ax.set_title(\"Frequency distribution of workclass variable wrt sex\")\n",
        "ax.legend(loc='upper right')\n",
        "plt.show()"
      ],
      "execution_count": null,
      "outputs": [
        {
          "output_type": "display_data",
          "data": {
            "image/png": "[encoded data removed]",
            "text/plain": [
              "<Figure size 864x576 with 1 Axes>"
            ]
          },
          "metadata": {
            "tags": [],
            "needs_background": "light"
          }
        }
      ]
    },
    {
      "cell_type": "markdown",
      "metadata": {
        "id": "rgZeVpSYbsnm"
      },
      "source": [
        "#### Explore `occupation` variable"
      ]
    },
    {
      "cell_type": "code",
      "metadata": {
        "id": "WWvzZQyzbsnm",
        "outputId": "aec96fb0-e1fc-44c5-a7f8-66d0a9e93c73"
      },
      "source": [
        "# check number of unique labels\n",
        "\n",
        "df.occupation.nunique()"
      ],
      "execution_count": null,
      "outputs": [
        {
          "output_type": "execute_result",
          "data": {
            "text/plain": [
              "15"
            ]
          },
          "metadata": {
            "tags": []
          },
          "execution_count": 30
        }
      ]
    },
    {
      "cell_type": "code",
      "metadata": {
        "id": "LaOiSvbzbsnn",
        "outputId": "99e192ca-b093-489e-d521-a604bfbb75a2"
      },
      "source": [
        "# view unique labels\n",
        "\n",
        "df.occupation.unique()\n"
      ],
      "execution_count": null,
      "outputs": [
        {
          "output_type": "execute_result",
          "data": {
            "text/plain": [
              "array([' Adm-clerical', ' Exec-managerial', ' Handlers-cleaners',\n",
              "       ' Prof-specialty', ' Other-service', ' Sales', ' Craft-repair',\n",
              "       ' Transport-moving', ' Farming-fishing', ' Machine-op-inspct',\n",
              "       ' Tech-support', ' ?', ' Protective-serv', ' Armed-Forces',\n",
              "       ' Priv-house-serv'], dtype=object)"
            ]
          },
          "metadata": {
            "tags": []
          },
          "execution_count": 31
        }
      ]
    },
    {
      "cell_type": "code",
      "metadata": {
        "id": "uGY3g1H0bsnn",
        "outputId": "77c67d53-d0d8-4650-edf3-b09b27d0ad30"
      },
      "source": [
        "# view frequency distribution of values\n",
        "\n",
        "df.occupation.value_counts()"
      ],
      "execution_count": null,
      "outputs": [
        {
          "output_type": "execute_result",
          "data": {
            "text/plain": [
              " Prof-specialty       4140\n",
              " Craft-repair         4099\n",
              " Exec-managerial      4066\n",
              " Adm-clerical         3770\n",
              " Sales                3650\n",
              " Other-service        3295\n",
              " Machine-op-inspct    2002\n",
              " ?                    1843\n",
              " Transport-moving     1597\n",
              " Handlers-cleaners    1370\n",
              " Farming-fishing       994\n",
              " Tech-support          928\n",
              " Protective-serv       649\n",
              " Priv-house-serv       149\n",
              " Armed-Forces            9\n",
              "Name: occupation, dtype: int64"
            ]
          },
          "metadata": {
            "tags": []
          },
          "execution_count": 32
        }
      ]
    },
    {
      "cell_type": "code",
      "metadata": {
        "id": "vxLmp79ebsno"
      },
      "source": [
        "# replace '?' values in occupation variable with `NaN`\n",
        "df['occupation'].replace(' ?', np.NaN, inplace=True)"
      ],
      "execution_count": null,
      "outputs": []
    },
    {
      "cell_type": "code",
      "metadata": {
        "id": "Nw7_pB2nbsno",
        "outputId": "88fb7e4c-0457-4557-ccd9-acd85f5a0d62"
      },
      "source": [
        "# again check the frequency distribution of values\n",
        "\n",
        "df.occupation.value_counts()"
      ],
      "execution_count": null,
      "outputs": [
        {
          "output_type": "execute_result",
          "data": {
            "text/plain": [
              " Prof-specialty       4140\n",
              " Craft-repair         4099\n",
              " Exec-managerial      4066\n",
              " Adm-clerical         3770\n",
              " Sales                3650\n",
              " Other-service        3295\n",
              " Machine-op-inspct    2002\n",
              " Transport-moving     1597\n",
              " Handlers-cleaners    1370\n",
              " Farming-fishing       994\n",
              " Tech-support          928\n",
              " Protective-serv       649\n",
              " Priv-house-serv       149\n",
              " Armed-Forces            9\n",
              "Name: occupation, dtype: int64"
            ]
          },
          "metadata": {
            "tags": []
          },
          "execution_count": 34
        }
      ]
    },
    {
      "cell_type": "code",
      "metadata": {
        "id": "fJUb3dijbsno",
        "outputId": "c3146988-d373-4833-e1c4-a3cc57d08528"
      },
      "source": [
        "# visualize frequency distribution of `occupation` variable\n",
        "\n",
        "f, ax = plt.subplots(figsize=(12, 8))\n",
        "ax = sns.countplot(x=\"occupation\", data=df, palette=\"Set1\")\n",
        "ax.set_title(\"Frequency distribution of occupation variable\")\n",
        "ax.set_xticklabels(df.occupation.value_counts().index, rotation=30)\n",
        "plt.show()"
      ],
      "execution_count": null,
      "outputs": [
        {
          "output_type": "display_data",
          "data": {
            "image/png": "[encoded data removed]",
            "text/plain": [
              "<Figure size 864x576 with 1 Axes>"
            ]
          },
          "metadata": {
            "tags": [],
            "needs_background": "light"
          }
        }
      ]
    },
    {
      "cell_type": "markdown",
      "metadata": {
        "id": "94mwlyKIbsnp"
      },
      "source": [
        "#### Explore `native_country` variable"
      ]
    },
    {
      "cell_type": "code",
      "metadata": {
        "id": "CVKOdrrCbsnp",
        "outputId": "61bd332c-ff71-4969-98ec-4aadcaf040ea"
      },
      "source": [
        "# check number of unique labels\n",
        "\n",
        "df.native_country.nunique()"
      ],
      "execution_count": null,
      "outputs": [
        {
          "output_type": "execute_result",
          "data": {
            "text/plain": [
              "42"
            ]
          },
          "metadata": {
            "tags": []
          },
          "execution_count": 36
        }
      ]
    },
    {
      "cell_type": "code",
      "metadata": {
        "id": "fELT_dxKbsnq",
        "outputId": "933f111d-5a69-4c3a-d132-f98041cdf259"
      },
      "source": [
        "# view unique labels \n",
        "\n",
        "df.native_country.unique()\n"
      ],
      "execution_count": null,
      "outputs": [
        {
          "output_type": "execute_result",
          "data": {
            "text/plain": [
              "array([' United-States', ' Cuba', ' Jamaica', ' India', ' ?', ' Mexico',\n",
              "       ' South', ' Puerto-Rico', ' Honduras', ' England', ' Canada',\n",
              "       ' Germany', ' Iran', ' Philippines', ' Italy', ' Poland',\n",
              "       ' Columbia', ' Cambodia', ' Thailand', ' Ecuador', ' Laos',\n",
              "       ' Taiwan', ' Haiti', ' Portugal', ' Dominican-Republic',\n",
              "       ' El-Salvador', ' France', ' Guatemala', ' China', ' Japan',\n",
              "       ' Yugoslavia', ' Peru', ' Outlying-US(Guam-USVI-etc)', ' Scotland',\n",
              "       ' Trinadad&Tobago', ' Greece', ' Nicaragua', ' Vietnam', ' Hong',\n",
              "       ' Ireland', ' Hungary', ' Holand-Netherlands'], dtype=object)"
            ]
          },
          "metadata": {
            "tags": []
          },
          "execution_count": 37
        }
      ]
    },
    {
      "cell_type": "code",
      "metadata": {
        "id": "Sn0hRTvxbsnq",
        "outputId": "af02ff62-d752-44ad-bbce-e1e4953fdd26"
      },
      "source": [
        "# check frequency distribution of values\n",
        "\n",
        "df.native_country.value_counts()\n"
      ],
      "execution_count": null,
      "outputs": [
        {
          "output_type": "execute_result",
          "data": {
            "text/plain": [
              " United-States                 29170\n",
              " Mexico                          643\n",
              " ?                               583\n",
              " Philippines                     198\n",
              " Germany                         137\n",
              " Canada                          121\n",
              " Puerto-Rico                     114\n",
              " El-Salvador                     106\n",
              " India                           100\n",
              " Cuba                             95\n",
              " England                          90\n",
              " Jamaica                          81\n",
              " South                            80\n",
              " China                            75\n",
              " Italy                            73\n",
              " Dominican-Republic               70\n",
              " Vietnam                          67\n",
              " Guatemala                        64\n",
              " Japan                            62\n",
              " Poland                           60\n",
              " Columbia                         59\n",
              " Taiwan                           51\n",
              " Haiti                            44\n",
              " Iran                             43\n",
              " Portugal                         37\n",
              " Nicaragua                        34\n",
              " Peru                             31\n",
              " Greece                           29\n",
              " France                           29\n",
              " Ecuador                          28\n",
              " Ireland                          24\n",
              " Hong                             20\n",
              " Cambodia                         19\n",
              " Trinadad&Tobago                  19\n",
              " Laos                             18\n",
              " Thailand                         18\n",
              " Yugoslavia                       16\n",
              " Outlying-US(Guam-USVI-etc)       14\n",
              " Hungary                          13\n",
              " Honduras                         13\n",
              " Scotland                         12\n",
              " Holand-Netherlands                1\n",
              "Name: native_country, dtype: int64"
            ]
          },
          "metadata": {
            "tags": []
          },
          "execution_count": 38
        }
      ]
    },
    {
      "cell_type": "code",
      "metadata": {
        "id": "2WfMiUozbsnq"
      },
      "source": [
        "df['native_country'].replace(' ?', np.NaN, inplace=True)"
      ],
      "execution_count": null,
      "outputs": []
    },
    {
      "cell_type": "code",
      "metadata": {
        "id": "04XgT9Rvbsnr",
        "outputId": "87d74674-a7f1-4c47-c8ca-72140dadfa95"
      },
      "source": [
        "df[categorical].isnull().sum()"
      ],
      "execution_count": null,
      "outputs": [
        {
          "output_type": "execute_result",
          "data": {
            "text/plain": [
              "workclass         1836\n",
              "education            0\n",
              "marital_status       0\n",
              "occupation        1843\n",
              "relationship         0\n",
              "race                 0\n",
              "sex                  0\n",
              "native_country     583\n",
              "income               0\n",
              "dtype: int64"
            ]
          },
          "metadata": {
            "tags": []
          },
          "execution_count": 40
        }
      ]
    },
    {
      "cell_type": "markdown",
      "metadata": {
        "id": "3eOHcsYDbsnr"
      },
      "source": [
        "Now, we can see that `workclass`, `occupation` and `native_country` variable contains missing values."
      ]
    },
    {
      "cell_type": "code",
      "metadata": {
        "id": "D2gFqp31bsns",
        "outputId": "1d588ac4-ee5b-42f5-fc2f-0337f52f2474"
      },
      "source": [
        "# check for cardinality in categorical variables\n",
        "\n",
        "for var in categorical:\n",
        "    \n",
        "    print(var, ' contains ', len(df[var].unique()), ' labels')"
      ],
      "execution_count": null,
      "outputs": [
        {
          "output_type": "stream",
          "text": [
            "workclass  contains  9  labels\n",
            "education  contains  16  labels\n",
            "marital_status  contains  7  labels\n",
            "occupation  contains  15  labels\n",
            "relationship  contains  6  labels\n",
            "race  contains  5  labels\n",
            "sex  contains  2  labels\n",
            "native_country  contains  42  labels\n",
            "income  contains  2  labels\n"
          ],
          "name": "stdout"
        }
      ]
    },
    {
      "cell_type": "markdown",
      "metadata": {
        "id": "dfkM_E5Ibsns"
      },
      "source": [
        "We can see that native_country column contains relatively large number of labels as compared to other columns. I will check for cardinality after train-test split."
      ]
    },
    {
      "cell_type": "code",
      "metadata": {
        "id": "cqIXX0Gdbsns",
        "outputId": "d4c1d059-1b05-4437-ad2d-ebfcd72f396e"
      },
      "source": [
        "numerical = [var for var in df.columns if df[var].dtype!='O']\n",
        "\n",
        "print('There are {} numerical variables\\n'.format(len(numerical)))\n",
        "\n",
        "print('The numerical variables are :\\n\\n', numerical)"
      ],
      "execution_count": null,
      "outputs": [
        {
          "output_type": "stream",
          "text": [
            "There are 6 numerical variables\n",
            "\n",
            "The numerical variables are :\n",
            "\n",
            " ['age', 'fnlwgt', 'education_num', 'capital_gain', 'capital_loss', 'hours_per_week']\n"
          ],
          "name": "stdout"
        }
      ]
    },
    {
      "cell_type": "code",
      "metadata": {
        "id": "7Q8Z8kYvbsnt",
        "outputId": "2df7e1e6-ae53-4c5f-e414-9831bb6c6642"
      },
      "source": [
        "df[numerical].head()"
      ],
      "execution_count": null,
      "outputs": [
        {
          "output_type": "execute_result",
          "data": {
            "text/html": [
              "<div>\n",
              "<style scoped>\n",
              "    .dataframe tbody tr th:only-of-type {\n",
              "        vertical-align: middle;\n",
              "    }\n",
              "\n",
              "    .dataframe tbody tr th {\n",
              "        vertical-align: top;\n",
              "    }\n",
              "\n",
              "    .dataframe thead th {\n",
              "        text-align: right;\n",
              "    }\n",
              "</style>\n",
              "<table border=\"1\" class=\"dataframe\">\n",
              "  <thead>\n",
              "    <tr style=\"text-align: right;\">\n",
              "      <th></th>\n",
              "      <th>age</th>\n",
              "      <th>fnlwgt</th>\n",
              "      <th>education_num</th>\n",
              "      <th>capital_gain</th>\n",
              "      <th>capital_loss</th>\n",
              "      <th>hours_per_week</th>\n",
              "    </tr>\n",
              "  </thead>\n",
              "  <tbody>\n",
              "    <tr>\n",
              "      <td>0</td>\n",
              "      <td>39</td>\n",
              "      <td>77516</td>\n",
              "      <td>13</td>\n",
              "      <td>2174</td>\n",
              "      <td>0</td>\n",
              "      <td>40</td>\n",
              "    </tr>\n",
              "    <tr>\n",
              "      <td>1</td>\n",
              "      <td>50</td>\n",
              "      <td>83311</td>\n",
              "      <td>13</td>\n",
              "      <td>0</td>\n",
              "      <td>0</td>\n",
              "      <td>13</td>\n",
              "    </tr>\n",
              "    <tr>\n",
              "      <td>2</td>\n",
              "      <td>38</td>\n",
              "      <td>215646</td>\n",
              "      <td>9</td>\n",
              "      <td>0</td>\n",
              "      <td>0</td>\n",
              "      <td>40</td>\n",
              "    </tr>\n",
              "    <tr>\n",
              "      <td>3</td>\n",
              "      <td>53</td>\n",
              "      <td>234721</td>\n",
              "      <td>7</td>\n",
              "      <td>0</td>\n",
              "      <td>0</td>\n",
              "      <td>40</td>\n",
              "    </tr>\n",
              "    <tr>\n",
              "      <td>4</td>\n",
              "      <td>28</td>\n",
              "      <td>338409</td>\n",
              "      <td>13</td>\n",
              "      <td>0</td>\n",
              "      <td>0</td>\n",
              "      <td>40</td>\n",
              "    </tr>\n",
              "  </tbody>\n",
              "</table>\n",
              "</div>"
            ],
            "text/plain": [
              "   age  fnlwgt  education_num  capital_gain  capital_loss  hours_per_week\n",
              "0   39   77516             13          2174             0              40\n",
              "1   50   83311             13             0             0              13\n",
              "2   38  215646              9             0             0              40\n",
              "3   53  234721              7             0             0              40\n",
              "4   28  338409             13             0             0              40"
            ]
          },
          "metadata": {
            "tags": []
          },
          "execution_count": 43
        }
      ]
    },
    {
      "cell_type": "markdown",
      "metadata": {
        "id": "8CkOWUPJbsnt"
      },
      "source": [
        "### 6.4 Check missing values in numerical variables "
      ]
    },
    {
      "cell_type": "code",
      "metadata": {
        "id": "I4ve8ZWFbsnt",
        "outputId": "73acf456-59e1-4965-eaec-aa57d3830c79"
      },
      "source": [
        "df[numerical].isnull().sum()"
      ],
      "execution_count": null,
      "outputs": [
        {
          "output_type": "execute_result",
          "data": {
            "text/plain": [
              "age               0\n",
              "fnlwgt            0\n",
              "education_num     0\n",
              "capital_gain      0\n",
              "capital_loss      0\n",
              "hours_per_week    0\n",
              "dtype: int64"
            ]
          },
          "metadata": {
            "tags": []
          },
          "execution_count": 44
        }
      ]
    },
    {
      "cell_type": "markdown",
      "metadata": {
        "id": "kWj5pXyhbsnu"
      },
      "source": [
        "We can see that there are no missing values in the numerical variables."
      ]
    },
    {
      "cell_type": "markdown",
      "metadata": {
        "id": "9Jv933AObsnu"
      },
      "source": [
        "#### Explore `age` variable"
      ]
    },
    {
      "cell_type": "code",
      "metadata": {
        "id": "4oCb1bXCbsnv",
        "outputId": "a7fe386d-c544-45b7-b1a1-1eec8c601b75"
      },
      "source": [
        "df['age'].nunique()"
      ],
      "execution_count": null,
      "outputs": [
        {
          "output_type": "execute_result",
          "data": {
            "text/plain": [
              "73"
            ]
          },
          "metadata": {
            "tags": []
          },
          "execution_count": 45
        }
      ]
    },
    {
      "cell_type": "markdown",
      "metadata": {
        "id": "QUJ3mN-lbsnv"
      },
      "source": [
        "#### View the distribution of `age` variable"
      ]
    },
    {
      "cell_type": "code",
      "metadata": {
        "id": "HlxnQKJHbsnw",
        "outputId": "78428f04-c765-41be-ac87-d2a2a45e5d8c"
      },
      "source": [
        "f, ax = plt.subplots(figsize=(10,8))\n",
        "x = df['age']\n",
        "ax = sns.distplot(x, bins=10, color='blue')\n",
        "ax.set_title(\"Distribution of age variable\")\n",
        "plt.show()"
      ],
      "execution_count": null,
      "outputs": [
        {
          "output_type": "display_data",
          "data": {
            "image/png": "[encoded data removed]",
            "text/plain": [
              "<Figure size 720x576 with 1 Axes>"
            ]
          },
          "metadata": {
            "tags": [],
            "needs_background": "light"
          }
        }
      ]
    },
    {
      "cell_type": "markdown",
      "metadata": {
        "id": "Bagg-Hj7bsnw"
      },
      "source": [
        "We can see that `age` is slightly positively skewed."
      ]
    },
    {
      "cell_type": "markdown",
      "metadata": {
        "id": "CoqNRPQYbsnw"
      },
      "source": [
        "#### Detect outliers in `age` variable with boxplot"
      ]
    },
    {
      "cell_type": "code",
      "metadata": {
        "id": "EBlAylAubsnx",
        "outputId": "b0466239-34fe-4b2f-9da4-a209f5b316db"
      },
      "source": [
        "f, ax = plt.subplots(figsize=(10,8))\n",
        "x = df['age']\n",
        "ax = sns.boxplot(x)\n",
        "ax.set_title(\"Visualize outliers in age variable\")\n",
        "plt.show()"
      ],
      "execution_count": null,
      "outputs": [
        {
          "output_type": "display_data",
          "data": {
            "image/png": "[encoded data removed]",
            "text/plain": [
              "<Figure size 720x576 with 1 Axes>"
            ]
          },
          "metadata": {
            "tags": [],
            "needs_background": "light"
          }
        }
      ]
    },
    {
      "cell_type": "markdown",
      "metadata": {
        "id": "VYjRDPcXbsnx"
      },
      "source": [
        "#### Explore relationship between `age` and `income` variables"
      ]
    },
    {
      "cell_type": "code",
      "metadata": {
        "id": "IsOqNucHbsnx",
        "outputId": "87d0a923-5cb7-41dd-e8f3-46540027439c"
      },
      "source": [
        "f, ax = plt.subplots(figsize=(10, 8))\n",
        "ax = sns.boxplot(x=\"income\", y=\"age\", data=df)\n",
        "ax.set_title(\"Visualize income wrt age variable\")\n",
        "plt.show()"
      ],
      "execution_count": null,
      "outputs": [
        {
          "output_type": "display_data",
          "data": {
            "image/png": "[encoded data removed]",
            "text/plain": [
              "<Figure size 720x576 with 1 Axes>"
            ]
          },
          "metadata": {
            "tags": [],
            "needs_background": "light"
          }
        }
      ]
    },
    {
      "cell_type": "markdown",
      "metadata": {
        "id": "qh13v6XJbsny"
      },
      "source": [
        "#### Interpretation\n",
        "\n",
        "- As expected, younger people make less money as compared to seniors."
      ]
    },
    {
      "cell_type": "markdown",
      "metadata": {
        "id": "ixVPAJ6xbsny"
      },
      "source": [
        "#### Interpretation\n",
        "\n",
        "- Senior people make more money than younger people."
      ]
    },
    {
      "cell_type": "markdown",
      "metadata": {
        "id": "TJf7Ai86bsny"
      },
      "source": [
        "#### Visualize relationship between `race` and `age`"
      ]
    },
    {
      "cell_type": "code",
      "metadata": {
        "id": "Ja9q1Bwcbsny",
        "outputId": "a7667fb8-e41e-45cd-d243-27ea1a863ef1"
      },
      "source": [
        "plt.figure(figsize=(12,8))\n",
        "sns.boxplot(x ='race', y=\"age\", data = df)\n",
        "plt.title(\"Visualize age wrt race\")\n",
        "plt.show()"
      ],
      "execution_count": null,
      "outputs": [
        {
          "output_type": "display_data",
          "data": {
            "image/png": "[encoded data removed]",
            "text/plain": [
              "<Figure size 864x576 with 1 Axes>"
            ]
          },
          "metadata": {
            "tags": [],
            "needs_background": "light"
          }
        }
      ]
    },
    {
      "cell_type": "markdown",
      "metadata": {
        "id": "twvrGj6-bsnz"
      },
      "source": [
        "#### Interpretation\n",
        "\n",
        "- Whites are more older than other groups of people."
      ]
    },
    {
      "cell_type": "markdown",
      "metadata": {
        "id": "gjxsmZO1bsnz"
      },
      "source": [
        "#### Find out the correlations"
      ]
    },
    {
      "cell_type": "code",
      "metadata": {
        "id": "rqEa6Yp-bsnz",
        "outputId": "1511788b-02cd-4c80-fe72-8d961af63af0"
      },
      "source": [
        "# plot correlation heatmap to find out correlations\n",
        "\n",
        "df.corr().style.format(\"{:.4}\").background_gradient(cmap=plt.get_cmap('coolwarm'), axis=1)"
      ],
      "execution_count": null,
      "outputs": [
        {
          "output_type": "execute_result",
          "data": {
            "text/html": [
              "<style  type=\"text/css\" >\n",
              "    #T_0a968ec2_71e6_11eb_adf8_255e466354f9row0_col0 {\n",
              "            background-color:  #b40426;\n",
              "            color:  #f1f1f1;\n",
              "        }    #T_0a968ec2_71e6_11eb_adf8_255e466354f9row0_col1 {\n",
              "            background-color:  #3b4cc0;\n",
              "            color:  #f1f1f1;\n",
              "        }    #T_0a968ec2_71e6_11eb_adf8_255e466354f9row0_col2 {\n",
              "            background-color:  #5a78e4;\n",
              "            color:  #000000;\n",
              "        }    #T_0a968ec2_71e6_11eb_adf8_255e466354f9row0_col3 {\n",
              "            background-color:  #6788ee;\n",
              "            color:  #000000;\n",
              "        }    #T_0a968ec2_71e6_11eb_adf8_255e466354f9row0_col4 {\n",
              "            background-color:  #6180e9;\n",
              "            color:  #000000;\n",
              "        }    #T_0a968ec2_71e6_11eb_adf8_255e466354f9row0_col5 {\n",
              "            background-color:  #6485ec;\n",
              "            color:  #000000;\n",
              "        }    #T_0a968ec2_71e6_11eb_adf8_255e466354f9row1_col0 {\n",
              "            background-color:  #3b4cc0;\n",
              "            color:  #f1f1f1;\n",
              "        }    #T_0a968ec2_71e6_11eb_adf8_255e466354f9row1_col1 {\n",
              "            background-color:  #b40426;\n",
              "            color:  #f1f1f1;\n",
              "        }    #T_0a968ec2_71e6_11eb_adf8_255e466354f9row1_col2 {\n",
              "            background-color:  #4358cb;\n",
              "            color:  #f1f1f1;\n",
              "        }    #T_0a968ec2_71e6_11eb_adf8_255e466354f9row1_col3 {\n",
              "            background-color:  #506bda;\n",
              "            color:  #000000;\n",
              "        }    #T_0a968ec2_71e6_11eb_adf8_255e466354f9row1_col4 {\n",
              "            background-color:  #4c66d6;\n",
              "            color:  #000000;\n",
              "        }    #T_0a968ec2_71e6_11eb_adf8_255e466354f9row1_col5 {\n",
              "            background-color:  #4a63d3;\n",
              "            color:  #f1f1f1;\n",
              "        }    #T_0a968ec2_71e6_11eb_adf8_255e466354f9row2_col0 {\n",
              "            background-color:  #516ddb;\n",
              "            color:  #000000;\n",
              "        }    #T_0a968ec2_71e6_11eb_adf8_255e466354f9row2_col1 {\n",
              "            background-color:  #3b4cc0;\n",
              "            color:  #f1f1f1;\n",
              "        }    #T_0a968ec2_71e6_11eb_adf8_255e466354f9row2_col2 {\n",
              "            background-color:  #b40426;\n",
              "            color:  #f1f1f1;\n",
              "        }    #T_0a968ec2_71e6_11eb_adf8_255e466354f9row2_col3 {\n",
              "            background-color:  #6c8ff1;\n",
              "            color:  #000000;\n",
              "        }    #T_0a968ec2_71e6_11eb_adf8_255e466354f9row2_col4 {\n",
              "            background-color:  #5f7fe8;\n",
              "            color:  #000000;\n",
              "        }    #T_0a968ec2_71e6_11eb_adf8_255e466354f9row2_col5 {\n",
              "            background-color:  #7597f6;\n",
              "            color:  #000000;\n",
              "        }    #T_0a968ec2_71e6_11eb_adf8_255e466354f9row3_col0 {\n",
              "            background-color:  #5b7ae5;\n",
              "            color:  #000000;\n",
              "        }    #T_0a968ec2_71e6_11eb_adf8_255e466354f9row3_col1 {\n",
              "            background-color:  #4358cb;\n",
              "            color:  #f1f1f1;\n",
              "        }    #T_0a968ec2_71e6_11eb_adf8_255e466354f9row3_col2 {\n",
              "            background-color:  #6a8bef;\n",
              "            color:  #000000;\n",
              "        }    #T_0a968ec2_71e6_11eb_adf8_255e466354f9row3_col3 {\n",
              "            background-color:  #b40426;\n",
              "            color:  #f1f1f1;\n",
              "        }    #T_0a968ec2_71e6_11eb_adf8_255e466354f9row3_col4 {\n",
              "            background-color:  #3b4cc0;\n",
              "            color:  #f1f1f1;\n",
              "        }    #T_0a968ec2_71e6_11eb_adf8_255e466354f9row3_col5 {\n",
              "            background-color:  #5b7ae5;\n",
              "            color:  #000000;\n",
              "        }    #T_0a968ec2_71e6_11eb_adf8_255e466354f9row4_col0 {\n",
              "            background-color:  #5572df;\n",
              "            color:  #000000;\n",
              "        }    #T_0a968ec2_71e6_11eb_adf8_255e466354f9row4_col1 {\n",
              "            background-color:  #4055c8;\n",
              "            color:  #f1f1f1;\n",
              "        }    #T_0a968ec2_71e6_11eb_adf8_255e466354f9row4_col2 {\n",
              "            background-color:  #5b7ae5;\n",
              "            color:  #000000;\n",
              "        }    #T_0a968ec2_71e6_11eb_adf8_255e466354f9row4_col3 {\n",
              "            background-color:  #3b4cc0;\n",
              "            color:  #f1f1f1;\n",
              "        }    #T_0a968ec2_71e6_11eb_adf8_255e466354f9row4_col4 {\n",
              "            background-color:  #b40426;\n",
              "            color:  #f1f1f1;\n",
              "        }    #T_0a968ec2_71e6_11eb_adf8_255e466354f9row4_col5 {\n",
              "            background-color:  #5470de;\n",
              "            color:  #000000;\n",
              "        }    #T_0a968ec2_71e6_11eb_adf8_255e466354f9row5_col0 {\n",
              "            background-color:  #5470de;\n",
              "            color:  #000000;\n",
              "        }    #T_0a968ec2_71e6_11eb_adf8_255e466354f9row5_col1 {\n",
              "            background-color:  #3b4cc0;\n",
              "            color:  #f1f1f1;\n",
              "        }    #T_0a968ec2_71e6_11eb_adf8_255e466354f9row5_col2 {\n",
              "            background-color:  #6e90f2;\n",
              "            color:  #000000;\n",
              "        }    #T_0a968ec2_71e6_11eb_adf8_255e466354f9row5_col3 {\n",
              "            background-color:  #5875e1;\n",
              "            color:  #000000;\n",
              "        }    #T_0a968ec2_71e6_11eb_adf8_255e466354f9row5_col4 {\n",
              "            background-color:  #506bda;\n",
              "            color:  #000000;\n",
              "        }    #T_0a968ec2_71e6_11eb_adf8_255e466354f9row5_col5 {\n",
              "            background-color:  #b40426;\n",
              "            color:  #f1f1f1;\n",
              "        }</style><table id=\"T_0a968ec2_71e6_11eb_adf8_255e466354f9\" ><thead>    <tr>        <th class=\"blank level0\" ></th>        <th class=\"col_heading level0 col0\" >age</th>        <th class=\"col_heading level0 col1\" >fnlwgt</th>        <th class=\"col_heading level0 col2\" >education_num</th>        <th class=\"col_heading level0 col3\" >capital_gain</th>        <th class=\"col_heading level0 col4\" >capital_loss</th>        <th class=\"col_heading level0 col5\" >hours_per_week</th>    </tr></thead><tbody>\n",
              "                <tr>\n",
              "                        <th id=\"T_0a968ec2_71e6_11eb_adf8_255e466354f9level0_row0\" class=\"row_heading level0 row0\" >age</th>\n",
              "                        <td id=\"T_0a968ec2_71e6_11eb_adf8_255e466354f9row0_col0\" class=\"data row0 col0\" >1.0</td>\n",
              "                        <td id=\"T_0a968ec2_71e6_11eb_adf8_255e466354f9row0_col1\" class=\"data row0 col1\" >-0.07665</td>\n",
              "                        <td id=\"T_0a968ec2_71e6_11eb_adf8_255e466354f9row0_col2\" class=\"data row0 col2\" >0.03653</td>\n",
              "                        <td id=\"T_0a968ec2_71e6_11eb_adf8_255e466354f9row0_col3\" class=\"data row0 col3\" >0.07767</td>\n",
              "                        <td id=\"T_0a968ec2_71e6_11eb_adf8_255e466354f9row0_col4\" class=\"data row0 col4\" >0.05777</td>\n",
              "                        <td id=\"T_0a968ec2_71e6_11eb_adf8_255e466354f9row0_col5\" class=\"data row0 col5\" >0.06876</td>\n",
              "            </tr>\n",
              "            <tr>\n",
              "                        <th id=\"T_0a968ec2_71e6_11eb_adf8_255e466354f9level0_row1\" class=\"row_heading level0 row1\" >fnlwgt</th>\n",
              "                        <td id=\"T_0a968ec2_71e6_11eb_adf8_255e466354f9row1_col0\" class=\"data row1 col0\" >-0.07665</td>\n",
              "                        <td id=\"T_0a968ec2_71e6_11eb_adf8_255e466354f9row1_col1\" class=\"data row1 col1\" >1.0</td>\n",
              "                        <td id=\"T_0a968ec2_71e6_11eb_adf8_255e466354f9row1_col2\" class=\"data row1 col2\" >-0.04319</td>\n",
              "                        <td id=\"T_0a968ec2_71e6_11eb_adf8_255e466354f9row1_col3\" class=\"data row1 col3\" >0.0004319</td>\n",
              "                        <td id=\"T_0a968ec2_71e6_11eb_adf8_255e466354f9row1_col4\" class=\"data row1 col4\" >-0.01025</td>\n",
              "                        <td id=\"T_0a968ec2_71e6_11eb_adf8_255e466354f9row1_col5\" class=\"data row1 col5\" >-0.01877</td>\n",
              "            </tr>\n",
              "            <tr>\n",
              "                        <th id=\"T_0a968ec2_71e6_11eb_adf8_255e466354f9level0_row2\" class=\"row_heading level0 row2\" >education_num</th>\n",
              "                        <td id=\"T_0a968ec2_71e6_11eb_adf8_255e466354f9row2_col0\" class=\"data row2 col0\" >0.03653</td>\n",
              "                        <td id=\"T_0a968ec2_71e6_11eb_adf8_255e466354f9row2_col1\" class=\"data row2 col1\" >-0.04319</td>\n",
              "                        <td id=\"T_0a968ec2_71e6_11eb_adf8_255e466354f9row2_col2\" class=\"data row2 col2\" >1.0</td>\n",
              "                        <td id=\"T_0a968ec2_71e6_11eb_adf8_255e466354f9row2_col3\" class=\"data row2 col3\" >0.1226</td>\n",
              "                        <td id=\"T_0a968ec2_71e6_11eb_adf8_255e466354f9row2_col4\" class=\"data row2 col4\" >0.07992</td>\n",
              "                        <td id=\"T_0a968ec2_71e6_11eb_adf8_255e466354f9row2_col5\" class=\"data row2 col5\" >0.1481</td>\n",
              "            </tr>\n",
              "            <tr>\n",
              "                        <th id=\"T_0a968ec2_71e6_11eb_adf8_255e466354f9level0_row3\" class=\"row_heading level0 row3\" >capital_gain</th>\n",
              "                        <td id=\"T_0a968ec2_71e6_11eb_adf8_255e466354f9row3_col0\" class=\"data row3 col0\" >0.07767</td>\n",
              "                        <td id=\"T_0a968ec2_71e6_11eb_adf8_255e466354f9row3_col1\" class=\"data row3 col1\" >0.0004319</td>\n",
              "                        <td id=\"T_0a968ec2_71e6_11eb_adf8_255e466354f9row3_col2\" class=\"data row3 col2\" >0.1226</td>\n",
              "                        <td id=\"T_0a968ec2_71e6_11eb_adf8_255e466354f9row3_col3\" class=\"data row3 col3\" >1.0</td>\n",
              "                        <td id=\"T_0a968ec2_71e6_11eb_adf8_255e466354f9row3_col4\" class=\"data row3 col4\" >-0.03162</td>\n",
              "                        <td id=\"T_0a968ec2_71e6_11eb_adf8_255e466354f9row3_col5\" class=\"data row3 col5\" >0.07841</td>\n",
              "            </tr>\n",
              "            <tr>\n",
              "                        <th id=\"T_0a968ec2_71e6_11eb_adf8_255e466354f9level0_row4\" class=\"row_heading level0 row4\" >capital_loss</th>\n",
              "                        <td id=\"T_0a968ec2_71e6_11eb_adf8_255e466354f9row4_col0\" class=\"data row4 col0\" >0.05777</td>\n",
              "                        <td id=\"T_0a968ec2_71e6_11eb_adf8_255e466354f9row4_col1\" class=\"data row4 col1\" >-0.01025</td>\n",
              "                        <td id=\"T_0a968ec2_71e6_11eb_adf8_255e466354f9row4_col2\" class=\"data row4 col2\" >0.07992</td>\n",
              "                        <td id=\"T_0a968ec2_71e6_11eb_adf8_255e466354f9row4_col3\" class=\"data row4 col3\" >-0.03162</td>\n",
              "                        <td id=\"T_0a968ec2_71e6_11eb_adf8_255e466354f9row4_col4\" class=\"data row4 col4\" >1.0</td>\n",
              "                        <td id=\"T_0a968ec2_71e6_11eb_adf8_255e466354f9row4_col5\" class=\"data row4 col5\" >0.05426</td>\n",
              "            </tr>\n",
              "            <tr>\n",
              "                        <th id=\"T_0a968ec2_71e6_11eb_adf8_255e466354f9level0_row5\" class=\"row_heading level0 row5\" >hours_per_week</th>\n",
              "                        <td id=\"T_0a968ec2_71e6_11eb_adf8_255e466354f9row5_col0\" class=\"data row5 col0\" >0.06876</td>\n",
              "                        <td id=\"T_0a968ec2_71e6_11eb_adf8_255e466354f9row5_col1\" class=\"data row5 col1\" >-0.01877</td>\n",
              "                        <td id=\"T_0a968ec2_71e6_11eb_adf8_255e466354f9row5_col2\" class=\"data row5 col2\" >0.1481</td>\n",
              "                        <td id=\"T_0a968ec2_71e6_11eb_adf8_255e466354f9row5_col3\" class=\"data row5 col3\" >0.07841</td>\n",
              "                        <td id=\"T_0a968ec2_71e6_11eb_adf8_255e466354f9row5_col4\" class=\"data row5 col4\" >0.05426</td>\n",
              "                        <td id=\"T_0a968ec2_71e6_11eb_adf8_255e466354f9row5_col5\" class=\"data row5 col5\" >1.0</td>\n",
              "            </tr>\n",
              "    </tbody></table>"
            ],
            "text/plain": [
              "<pandas.io.formats.style.Styler at 0x7f2b624eb278>"
            ]
          },
          "metadata": {
            "tags": []
          },
          "execution_count": 50
        }
      ]
    },
    {
      "cell_type": "markdown",
      "metadata": {
        "id": "Kq-FbIyobsnz"
      },
      "source": [
        "#### Interpretation\n",
        "\n",
        "- We can see that there is no strong correlation between variables."
      ]
    },
    {
      "cell_type": "markdown",
      "metadata": {
        "id": "ceUBxQJnbsnz"
      },
      "source": [
        "Declare feature vector and target variable"
      ]
    },
    {
      "cell_type": "code",
      "metadata": {
        "id": "wHpf5ss0bsnz"
      },
      "source": [
        "X = df.drop(['income'], axis=1)\n",
        "y = df['income']"
      ],
      "execution_count": null,
      "outputs": []
    },
    {
      "cell_type": "code",
      "metadata": {
        "id": "mGwtSZuEbsn0",
        "outputId": "6faeedef-93f1-497b-a58f-935b3902dd4a"
      },
      "source": [
        "X_train, X_test, y_train, y_test = train_test_split(X, y, test_size = 0.3, random_state = 0)\n",
        "\n",
        "# check the shape of X_train and X_test\n",
        "X_train.shape, X_test.shape"
      ],
      "execution_count": null,
      "outputs": [
        {
          "output_type": "execute_result",
          "data": {
            "text/plain": [
              "((22792, 14), (9769, 14))"
            ]
          },
          "metadata": {
            "tags": []
          },
          "execution_count": 52
        }
      ]
    },
    {
      "cell_type": "markdown",
      "metadata": {
        "id": "mCw5X3bnbsn0"
      },
      "source": [
        "## Feature Engineering  \n",
        "\n",
        "- **Feature Engineering** is the process of transforming raw data into useful features that help us to understand our model better and increase its predictive power. "
      ]
    },
    {
      "cell_type": "code",
      "metadata": {
        "id": "g_ebe3KFbsn0",
        "outputId": "065f31a5-b94e-43a9-9f61-b365c414a06c"
      },
      "source": [
        "categorical = [col for col in X_train.columns if X_train[col].dtypes == 'O']\n",
        "\n",
        "categorical"
      ],
      "execution_count": null,
      "outputs": [
        {
          "output_type": "execute_result",
          "data": {
            "text/plain": [
              "['workclass',\n",
              " 'education',\n",
              " 'marital_status',\n",
              " 'occupation',\n",
              " 'relationship',\n",
              " 'race',\n",
              " 'sex',\n",
              " 'native_country']"
            ]
          },
          "metadata": {
            "tags": []
          },
          "execution_count": 53
        }
      ]
    },
    {
      "cell_type": "code",
      "metadata": {
        "id": "glqK3-8Xbsn0",
        "outputId": "887d56f3-750d-4d34-cb7a-ec24c18fd2bc"
      },
      "source": [
        "numerical = [col for col in X_train.columns if X_train[col].dtypes != 'O']\n",
        "\n",
        "numerical"
      ],
      "execution_count": null,
      "outputs": [
        {
          "output_type": "execute_result",
          "data": {
            "text/plain": [
              "['age',\n",
              " 'fnlwgt',\n",
              " 'education_num',\n",
              " 'capital_gain',\n",
              " 'capital_loss',\n",
              " 'hours_per_week']"
            ]
          },
          "metadata": {
            "tags": []
          },
          "execution_count": 54
        }
      ]
    },
    {
      "cell_type": "markdown",
      "metadata": {
        "id": "VfntU_8Ubsn1"
      },
      "source": [
        "### Engineering missing values in categorical variables"
      ]
    },
    {
      "cell_type": "code",
      "metadata": {
        "id": "ol7Q2glNbsn1",
        "outputId": "b3f70a5e-fdb7-45c3-f51b-b74b55be87eb"
      },
      "source": [
        "# print percentage of missing values in the categorical variables in training set\n",
        "\n",
        "X_train[categorical].isnull().mean()"
      ],
      "execution_count": null,
      "outputs": [
        {
          "output_type": "execute_result",
          "data": {
            "text/plain": [
              "workclass         0.055985\n",
              "education         0.000000\n",
              "marital_status    0.000000\n",
              "occupation        0.056072\n",
              "relationship      0.000000\n",
              "race              0.000000\n",
              "sex               0.000000\n",
              "native_country    0.018164\n",
              "dtype: float64"
            ]
          },
          "metadata": {
            "tags": []
          },
          "execution_count": 55
        }
      ]
    },
    {
      "cell_type": "code",
      "metadata": {
        "id": "G6k7IcnYbsn1",
        "outputId": "e50ed1e4-e34f-42f3-fb7a-00b6899aded1"
      },
      "source": [
        "# print categorical variables with missing data\n",
        "\n",
        "for col in categorical:\n",
        "    if X_train[col].isnull().mean()>0:\n",
        "        print(col, (X_train[col].isnull().mean()))"
      ],
      "execution_count": null,
      "outputs": [
        {
          "output_type": "stream",
          "text": [
            "workclass 0.055984555984555984\n",
            "occupation 0.05607230607230607\n",
            "native_country 0.018164268164268166\n"
          ],
          "name": "stdout"
        }
      ]
    },
    {
      "cell_type": "code",
      "metadata": {
        "id": "Tvr1Y40kbsn1"
      },
      "source": [
        "# impute missing categorical variables with most frequent value\n",
        "\n",
        "for df2 in [X_train, X_test]:\n",
        "    df2['workclass'].fillna(X_train['workclass'].mode()[0], inplace=True)\n",
        "    df2['occupation'].fillna(X_train['occupation'].mode()[0], inplace=True)\n",
        "    df2['native_country'].fillna(X_train['native_country'].mode()[0], inplace=True)    "
      ],
      "execution_count": null,
      "outputs": []
    },
    {
      "cell_type": "code",
      "metadata": {
        "id": "ciWbsijWbsn1",
        "outputId": "44a2c054-88b3-4c54-a2f9-9ed8f84a5f11"
      },
      "source": [
        "# check missing values in categorical variables in X_train\n",
        "\n",
        "X_train[categorical].isnull().sum()"
      ],
      "execution_count": null,
      "outputs": [
        {
          "output_type": "execute_result",
          "data": {
            "text/plain": [
              "workclass         0\n",
              "education         0\n",
              "marital_status    0\n",
              "occupation        0\n",
              "relationship      0\n",
              "race              0\n",
              "sex               0\n",
              "native_country    0\n",
              "dtype: int64"
            ]
          },
          "metadata": {
            "tags": []
          },
          "execution_count": 58
        }
      ]
    },
    {
      "cell_type": "code",
      "metadata": {
        "id": "1qeef8Btbsn2",
        "outputId": "0bc11df3-576a-4881-c629-bcc90f525865"
      },
      "source": [
        "# check missing values in categorical variables in X_test\n",
        "\n",
        "X_test[categorical].isnull().sum()"
      ],
      "execution_count": null,
      "outputs": [
        {
          "output_type": "execute_result",
          "data": {
            "text/plain": [
              "workclass         0\n",
              "education         0\n",
              "marital_status    0\n",
              "occupation        0\n",
              "relationship      0\n",
              "race              0\n",
              "sex               0\n",
              "native_country    0\n",
              "dtype: int64"
            ]
          },
          "metadata": {
            "tags": []
          },
          "execution_count": 59
        }
      ]
    },
    {
      "cell_type": "markdown",
      "metadata": {
        "id": "CxUOvz8Bbsn2"
      },
      "source": [
        "### Encode categorical variables\n"
      ]
    },
    {
      "cell_type": "code",
      "metadata": {
        "id": "jzMRc4bQbsn2",
        "outputId": "472f2934-ba81-4091-de2f-495b86a90c0a"
      },
      "source": [
        "# preview categorical variables in X_train\n",
        "\n",
        "X_train[categorical].head()"
      ],
      "execution_count": null,
      "outputs": [
        {
          "output_type": "execute_result",
          "data": {
            "text/html": [
              "<div>\n",
              "<style scoped>\n",
              "    .dataframe tbody tr th:only-of-type {\n",
              "        vertical-align: middle;\n",
              "    }\n",
              "\n",
              "    .dataframe tbody tr th {\n",
              "        vertical-align: top;\n",
              "    }\n",
              "\n",
              "    .dataframe thead th {\n",
              "        text-align: right;\n",
              "    }\n",
              "</style>\n",
              "<table border=\"1\" class=\"dataframe\">\n",
              "  <thead>\n",
              "    <tr style=\"text-align: right;\">\n",
              "      <th></th>\n",
              "      <th>workclass</th>\n",
              "      <th>education</th>\n",
              "      <th>marital_status</th>\n",
              "      <th>occupation</th>\n",
              "      <th>relationship</th>\n",
              "      <th>race</th>\n",
              "      <th>sex</th>\n",
              "      <th>native_country</th>\n",
              "    </tr>\n",
              "  </thead>\n",
              "  <tbody>\n",
              "    <tr>\n",
              "      <td>32098</td>\n",
              "      <td>Private</td>\n",
              "      <td>HS-grad</td>\n",
              "      <td>Married-civ-spouse</td>\n",
              "      <td>Craft-repair</td>\n",
              "      <td>Husband</td>\n",
              "      <td>White</td>\n",
              "      <td>Male</td>\n",
              "      <td>United-States</td>\n",
              "    </tr>\n",
              "    <tr>\n",
              "      <td>25206</td>\n",
              "      <td>State-gov</td>\n",
              "      <td>HS-grad</td>\n",
              "      <td>Divorced</td>\n",
              "      <td>Adm-clerical</td>\n",
              "      <td>Unmarried</td>\n",
              "      <td>White</td>\n",
              "      <td>Female</td>\n",
              "      <td>United-States</td>\n",
              "    </tr>\n",
              "    <tr>\n",
              "      <td>23491</td>\n",
              "      <td>Private</td>\n",
              "      <td>Some-college</td>\n",
              "      <td>Married-civ-spouse</td>\n",
              "      <td>Sales</td>\n",
              "      <td>Husband</td>\n",
              "      <td>White</td>\n",
              "      <td>Male</td>\n",
              "      <td>United-States</td>\n",
              "    </tr>\n",
              "    <tr>\n",
              "      <td>12367</td>\n",
              "      <td>Private</td>\n",
              "      <td>HS-grad</td>\n",
              "      <td>Never-married</td>\n",
              "      <td>Craft-repair</td>\n",
              "      <td>Not-in-family</td>\n",
              "      <td>White</td>\n",
              "      <td>Male</td>\n",
              "      <td>Guatemala</td>\n",
              "    </tr>\n",
              "    <tr>\n",
              "      <td>7054</td>\n",
              "      <td>Private</td>\n",
              "      <td>7th-8th</td>\n",
              "      <td>Never-married</td>\n",
              "      <td>Craft-repair</td>\n",
              "      <td>Not-in-family</td>\n",
              "      <td>White</td>\n",
              "      <td>Male</td>\n",
              "      <td>Germany</td>\n",
              "    </tr>\n",
              "  </tbody>\n",
              "</table>\n",
              "</div>"
            ],
            "text/plain": [
              "        workclass      education       marital_status     occupation  \\\n",
              "32098     Private        HS-grad   Married-civ-spouse   Craft-repair   \n",
              "25206   State-gov        HS-grad             Divorced   Adm-clerical   \n",
              "23491     Private   Some-college   Married-civ-spouse          Sales   \n",
              "12367     Private        HS-grad        Never-married   Craft-repair   \n",
              "7054      Private        7th-8th        Never-married   Craft-repair   \n",
              "\n",
              "         relationship    race      sex  native_country  \n",
              "32098         Husband   White     Male   United-States  \n",
              "25206       Unmarried   White   Female   United-States  \n",
              "23491         Husband   White     Male   United-States  \n",
              "12367   Not-in-family   White     Male       Guatemala  \n",
              "7054    Not-in-family   White     Male         Germany  "
            ]
          },
          "metadata": {
            "tags": []
          },
          "execution_count": 60
        }
      ]
    },
    {
      "cell_type": "code",
      "metadata": {
        "id": "UuVbOBwjbsn2"
      },
      "source": [
        "# import OneHotEncoder\n",
        "import category_encoders as ce"
      ],
      "execution_count": null,
      "outputs": []
    },
    {
      "cell_type": "code",
      "metadata": {
        "id": "NokOUcIpbsn3"
      },
      "source": [
        "# encode categorical variables with one-hot encoding\n",
        "\n",
        "encoder = ce.OneHotEncoder(cols=['workclass', 'education', 'marital_status', 'occupation', 'relationship', \n",
        "                                 'race', 'sex', 'native_country'])\n",
        "\n",
        "X_train = encoder.fit_transform(X_train)\n",
        "X_test = encoder.transform(X_test)"
      ],
      "execution_count": null,
      "outputs": []
    },
    {
      "cell_type": "code",
      "metadata": {
        "id": "w2lM0DJebsn3",
        "outputId": "d45a4ca1-f88d-44ac-d735-89b8f04bf32f"
      },
      "source": [
        "X_train.head()"
      ],
      "execution_count": null,
      "outputs": [
        {
          "output_type": "execute_result",
          "data": {
            "text/html": [
              "<div>\n",
              "<style scoped>\n",
              "    .dataframe tbody tr th:only-of-type {\n",
              "        vertical-align: middle;\n",
              "    }\n",
              "\n",
              "    .dataframe tbody tr th {\n",
              "        vertical-align: top;\n",
              "    }\n",
              "\n",
              "    .dataframe thead th {\n",
              "        text-align: right;\n",
              "    }\n",
              "</style>\n",
              "<table border=\"1\" class=\"dataframe\">\n",
              "  <thead>\n",
              "    <tr style=\"text-align: right;\">\n",
              "      <th></th>\n",
              "      <th>age</th>\n",
              "      <th>workclass_1</th>\n",
              "      <th>workclass_2</th>\n",
              "      <th>workclass_3</th>\n",
              "      <th>workclass_4</th>\n",
              "      <th>workclass_5</th>\n",
              "      <th>workclass_6</th>\n",
              "      <th>workclass_7</th>\n",
              "      <th>workclass_8</th>\n",
              "      <th>fnlwgt</th>\n",
              "      <th>...</th>\n",
              "      <th>native_country_32</th>\n",
              "      <th>native_country_33</th>\n",
              "      <th>native_country_34</th>\n",
              "      <th>native_country_35</th>\n",
              "      <th>native_country_36</th>\n",
              "      <th>native_country_37</th>\n",
              "      <th>native_country_38</th>\n",
              "      <th>native_country_39</th>\n",
              "      <th>native_country_40</th>\n",
              "      <th>native_country_41</th>\n",
              "    </tr>\n",
              "  </thead>\n",
              "  <tbody>\n",
              "    <tr>\n",
              "      <td>32098</td>\n",
              "      <td>45</td>\n",
              "      <td>1</td>\n",
              "      <td>0</td>\n",
              "      <td>0</td>\n",
              "      <td>0</td>\n",
              "      <td>0</td>\n",
              "      <td>0</td>\n",
              "      <td>0</td>\n",
              "      <td>0</td>\n",
              "      <td>170871</td>\n",
              "      <td>...</td>\n",
              "      <td>0</td>\n",
              "      <td>0</td>\n",
              "      <td>0</td>\n",
              "      <td>0</td>\n",
              "      <td>0</td>\n",
              "      <td>0</td>\n",
              "      <td>0</td>\n",
              "      <td>0</td>\n",
              "      <td>0</td>\n",
              "      <td>0</td>\n",
              "    </tr>\n",
              "    <tr>\n",
              "      <td>25206</td>\n",
              "      <td>47</td>\n",
              "      <td>0</td>\n",
              "      <td>1</td>\n",
              "      <td>0</td>\n",
              "      <td>0</td>\n",
              "      <td>0</td>\n",
              "      <td>0</td>\n",
              "      <td>0</td>\n",
              "      <td>0</td>\n",
              "      <td>108890</td>\n",
              "      <td>...</td>\n",
              "      <td>0</td>\n",
              "      <td>0</td>\n",
              "      <td>0</td>\n",
              "      <td>0</td>\n",
              "      <td>0</td>\n",
              "      <td>0</td>\n",
              "      <td>0</td>\n",
              "      <td>0</td>\n",
              "      <td>0</td>\n",
              "      <td>0</td>\n",
              "    </tr>\n",
              "    <tr>\n",
              "      <td>23491</td>\n",
              "      <td>48</td>\n",
              "      <td>1</td>\n",
              "      <td>0</td>\n",
              "      <td>0</td>\n",
              "      <td>0</td>\n",
              "      <td>0</td>\n",
              "      <td>0</td>\n",
              "      <td>0</td>\n",
              "      <td>0</td>\n",
              "      <td>187505</td>\n",
              "      <td>...</td>\n",
              "      <td>0</td>\n",
              "      <td>0</td>\n",
              "      <td>0</td>\n",
              "      <td>0</td>\n",
              "      <td>0</td>\n",
              "      <td>0</td>\n",
              "      <td>0</td>\n",
              "      <td>0</td>\n",
              "      <td>0</td>\n",
              "      <td>0</td>\n",
              "    </tr>\n",
              "    <tr>\n",
              "      <td>12367</td>\n",
              "      <td>29</td>\n",
              "      <td>1</td>\n",
              "      <td>0</td>\n",
              "      <td>0</td>\n",
              "      <td>0</td>\n",
              "      <td>0</td>\n",
              "      <td>0</td>\n",
              "      <td>0</td>\n",
              "      <td>0</td>\n",
              "      <td>145592</td>\n",
              "      <td>...</td>\n",
              "      <td>0</td>\n",
              "      <td>0</td>\n",
              "      <td>0</td>\n",
              "      <td>0</td>\n",
              "      <td>0</td>\n",
              "      <td>0</td>\n",
              "      <td>0</td>\n",
              "      <td>0</td>\n",
              "      <td>0</td>\n",
              "      <td>0</td>\n",
              "    </tr>\n",
              "    <tr>\n",
              "      <td>7054</td>\n",
              "      <td>23</td>\n",
              "      <td>1</td>\n",
              "      <td>0</td>\n",
              "      <td>0</td>\n",
              "      <td>0</td>\n",
              "      <td>0</td>\n",
              "      <td>0</td>\n",
              "      <td>0</td>\n",
              "      <td>0</td>\n",
              "      <td>203003</td>\n",
              "      <td>...</td>\n",
              "      <td>0</td>\n",
              "      <td>0</td>\n",
              "      <td>0</td>\n",
              "      <td>0</td>\n",
              "      <td>0</td>\n",
              "      <td>0</td>\n",
              "      <td>0</td>\n",
              "      <td>0</td>\n",
              "      <td>0</td>\n",
              "      <td>0</td>\n",
              "    </tr>\n",
              "  </tbody>\n",
              "</table>\n",
              "<p>5 rows × 105 columns</p>\n",
              "</div>"
            ],
            "text/plain": [
              "       age  workclass_1  workclass_2  workclass_3  workclass_4  workclass_5  \\\n",
              "32098   45            1            0            0            0            0   \n",
              "25206   47            0            1            0            0            0   \n",
              "23491   48            1            0            0            0            0   \n",
              "12367   29            1            0            0            0            0   \n",
              "7054    23            1            0            0            0            0   \n",
              "\n",
              "       workclass_6  workclass_7  workclass_8  fnlwgt  ...  native_country_32  \\\n",
              "32098            0            0            0  170871  ...                  0   \n",
              "25206            0            0            0  108890  ...                  0   \n",
              "23491            0            0            0  187505  ...                  0   \n",
              "12367            0            0            0  145592  ...                  0   \n",
              "7054             0            0            0  203003  ...                  0   \n",
              "\n",
              "       native_country_33  native_country_34  native_country_35  \\\n",
              "32098                  0                  0                  0   \n",
              "25206                  0                  0                  0   \n",
              "23491                  0                  0                  0   \n",
              "12367                  0                  0                  0   \n",
              "7054                   0                  0                  0   \n",
              "\n",
              "       native_country_36  native_country_37  native_country_38  \\\n",
              "32098                  0                  0                  0   \n",
              "25206                  0                  0                  0   \n",
              "23491                  0                  0                  0   \n",
              "12367                  0                  0                  0   \n",
              "7054                   0                  0                  0   \n",
              "\n",
              "       native_country_39  native_country_40  native_country_41  \n",
              "32098                  0                  0                  0  \n",
              "25206                  0                  0                  0  \n",
              "23491                  0                  0                  0  \n",
              "12367                  0                  0                  0  \n",
              "7054                   0                  0                  0  \n",
              "\n",
              "[5 rows x 105 columns]"
            ]
          },
          "metadata": {
            "tags": []
          },
          "execution_count": 63
        }
      ]
    },
    {
      "cell_type": "code",
      "metadata": {
        "id": "A-rcicukbsn4",
        "outputId": "17b99f21-50e5-4155-e255-0a1595884325"
      },
      "source": [
        "X_train.shape"
      ],
      "execution_count": null,
      "outputs": [
        {
          "output_type": "execute_result",
          "data": {
            "text/plain": [
              "(22792, 105)"
            ]
          },
          "metadata": {
            "tags": []
          },
          "execution_count": 64
        }
      ]
    },
    {
      "cell_type": "markdown",
      "metadata": {
        "id": "vot7tDrObsn5"
      },
      "source": [
        "Similarly, I will take a look at the X_test set."
      ]
    },
    {
      "cell_type": "code",
      "metadata": {
        "id": "l9o1sV6qbsn5",
        "outputId": "87a0ded5-a1a3-40b4-9692-330a62b3bec1"
      },
      "source": [
        "X_test.head()"
      ],
      "execution_count": null,
      "outputs": [
        {
          "output_type": "execute_result",
          "data": {
            "text/html": [
              "<div>\n",
              "<style scoped>\n",
              "    .dataframe tbody tr th:only-of-type {\n",
              "        vertical-align: middle;\n",
              "    }\n",
              "\n",
              "    .dataframe tbody tr th {\n",
              "        vertical-align: top;\n",
              "    }\n",
              "\n",
              "    .dataframe thead th {\n",
              "        text-align: right;\n",
              "    }\n",
              "</style>\n",
              "<table border=\"1\" class=\"dataframe\">\n",
              "  <thead>\n",
              "    <tr style=\"text-align: right;\">\n",
              "      <th></th>\n",
              "      <th>age</th>\n",
              "      <th>workclass_1</th>\n",
              "      <th>workclass_2</th>\n",
              "      <th>workclass_3</th>\n",
              "      <th>workclass_4</th>\n",
              "      <th>workclass_5</th>\n",
              "      <th>workclass_6</th>\n",
              "      <th>workclass_7</th>\n",
              "      <th>workclass_8</th>\n",
              "      <th>fnlwgt</th>\n",
              "      <th>...</th>\n",
              "      <th>native_country_32</th>\n",
              "      <th>native_country_33</th>\n",
              "      <th>native_country_34</th>\n",
              "      <th>native_country_35</th>\n",
              "      <th>native_country_36</th>\n",
              "      <th>native_country_37</th>\n",
              "      <th>native_country_38</th>\n",
              "      <th>native_country_39</th>\n",
              "      <th>native_country_40</th>\n",
              "      <th>native_country_41</th>\n",
              "    </tr>\n",
              "  </thead>\n",
              "  <tbody>\n",
              "    <tr>\n",
              "      <td>22278</td>\n",
              "      <td>27</td>\n",
              "      <td>1</td>\n",
              "      <td>0</td>\n",
              "      <td>0</td>\n",
              "      <td>0</td>\n",
              "      <td>0</td>\n",
              "      <td>0</td>\n",
              "      <td>0</td>\n",
              "      <td>0</td>\n",
              "      <td>177119</td>\n",
              "      <td>...</td>\n",
              "      <td>0</td>\n",
              "      <td>0</td>\n",
              "      <td>0</td>\n",
              "      <td>0</td>\n",
              "      <td>0</td>\n",
              "      <td>0</td>\n",
              "      <td>0</td>\n",
              "      <td>0</td>\n",
              "      <td>0</td>\n",
              "      <td>0</td>\n",
              "    </tr>\n",
              "    <tr>\n",
              "      <td>8950</td>\n",
              "      <td>27</td>\n",
              "      <td>1</td>\n",
              "      <td>0</td>\n",
              "      <td>0</td>\n",
              "      <td>0</td>\n",
              "      <td>0</td>\n",
              "      <td>0</td>\n",
              "      <td>0</td>\n",
              "      <td>0</td>\n",
              "      <td>216481</td>\n",
              "      <td>...</td>\n",
              "      <td>0</td>\n",
              "      <td>0</td>\n",
              "      <td>0</td>\n",
              "      <td>0</td>\n",
              "      <td>0</td>\n",
              "      <td>0</td>\n",
              "      <td>0</td>\n",
              "      <td>0</td>\n",
              "      <td>0</td>\n",
              "      <td>0</td>\n",
              "    </tr>\n",
              "    <tr>\n",
              "      <td>7838</td>\n",
              "      <td>25</td>\n",
              "      <td>1</td>\n",
              "      <td>0</td>\n",
              "      <td>0</td>\n",
              "      <td>0</td>\n",
              "      <td>0</td>\n",
              "      <td>0</td>\n",
              "      <td>0</td>\n",
              "      <td>0</td>\n",
              "      <td>256263</td>\n",
              "      <td>...</td>\n",
              "      <td>0</td>\n",
              "      <td>0</td>\n",
              "      <td>0</td>\n",
              "      <td>0</td>\n",
              "      <td>0</td>\n",
              "      <td>0</td>\n",
              "      <td>0</td>\n",
              "      <td>0</td>\n",
              "      <td>0</td>\n",
              "      <td>0</td>\n",
              "    </tr>\n",
              "    <tr>\n",
              "      <td>16505</td>\n",
              "      <td>46</td>\n",
              "      <td>1</td>\n",
              "      <td>0</td>\n",
              "      <td>0</td>\n",
              "      <td>0</td>\n",
              "      <td>0</td>\n",
              "      <td>0</td>\n",
              "      <td>0</td>\n",
              "      <td>0</td>\n",
              "      <td>147640</td>\n",
              "      <td>...</td>\n",
              "      <td>0</td>\n",
              "      <td>0</td>\n",
              "      <td>0</td>\n",
              "      <td>0</td>\n",
              "      <td>0</td>\n",
              "      <td>0</td>\n",
              "      <td>0</td>\n",
              "      <td>0</td>\n",
              "      <td>0</td>\n",
              "      <td>0</td>\n",
              "    </tr>\n",
              "    <tr>\n",
              "      <td>19140</td>\n",
              "      <td>45</td>\n",
              "      <td>1</td>\n",
              "      <td>0</td>\n",
              "      <td>0</td>\n",
              "      <td>0</td>\n",
              "      <td>0</td>\n",
              "      <td>0</td>\n",
              "      <td>0</td>\n",
              "      <td>0</td>\n",
              "      <td>172822</td>\n",
              "      <td>...</td>\n",
              "      <td>0</td>\n",
              "      <td>0</td>\n",
              "      <td>0</td>\n",
              "      <td>0</td>\n",
              "      <td>0</td>\n",
              "      <td>0</td>\n",
              "      <td>0</td>\n",
              "      <td>0</td>\n",
              "      <td>0</td>\n",
              "      <td>0</td>\n",
              "    </tr>\n",
              "  </tbody>\n",
              "</table>\n",
              "<p>5 rows × 105 columns</p>\n",
              "</div>"
            ],
            "text/plain": [
              "       age  workclass_1  workclass_2  workclass_3  workclass_4  workclass_5  \\\n",
              "22278   27            1            0            0            0            0   \n",
              "8950    27            1            0            0            0            0   \n",
              "7838    25            1            0            0            0            0   \n",
              "16505   46            1            0            0            0            0   \n",
              "19140   45            1            0            0            0            0   \n",
              "\n",
              "       workclass_6  workclass_7  workclass_8  fnlwgt  ...  native_country_32  \\\n",
              "22278            0            0            0  177119  ...                  0   \n",
              "8950             0            0            0  216481  ...                  0   \n",
              "7838             0            0            0  256263  ...                  0   \n",
              "16505            0            0            0  147640  ...                  0   \n",
              "19140            0            0            0  172822  ...                  0   \n",
              "\n",
              "       native_country_33  native_country_34  native_country_35  \\\n",
              "22278                  0                  0                  0   \n",
              "8950                   0                  0                  0   \n",
              "7838                   0                  0                  0   \n",
              "16505                  0                  0                  0   \n",
              "19140                  0                  0                  0   \n",
              "\n",
              "       native_country_36  native_country_37  native_country_38  \\\n",
              "22278                  0                  0                  0   \n",
              "8950                   0                  0                  0   \n",
              "7838                   0                  0                  0   \n",
              "16505                  0                  0                  0   \n",
              "19140                  0                  0                  0   \n",
              "\n",
              "       native_country_39  native_country_40  native_country_41  \n",
              "22278                  0                  0                  0  \n",
              "8950                   0                  0                  0  \n",
              "7838                   0                  0                  0  \n",
              "16505                  0                  0                  0  \n",
              "19140                  0                  0                  0  \n",
              "\n",
              "[5 rows x 105 columns]"
            ]
          },
          "metadata": {
            "tags": []
          },
          "execution_count": 65
        }
      ]
    },
    {
      "cell_type": "code",
      "metadata": {
        "id": "TUscO83dbsn5",
        "outputId": "94f32298-47d1-4885-c8e0-6574d356d23e"
      },
      "source": [
        "X_test.shape"
      ],
      "execution_count": null,
      "outputs": [
        {
          "output_type": "execute_result",
          "data": {
            "text/plain": [
              "(9769, 105)"
            ]
          },
          "metadata": {
            "tags": []
          },
          "execution_count": 66
        }
      ]
    },
    {
      "cell_type": "markdown",
      "metadata": {
        "id": "OejlHUdmbsn5"
      },
      "source": [
        "### Feature Scaling"
      ]
    },
    {
      "cell_type": "code",
      "metadata": {
        "id": "leT5VeHFbsn5"
      },
      "source": [
        "cols = X_train.columns"
      ],
      "execution_count": null,
      "outputs": []
    },
    {
      "cell_type": "code",
      "metadata": {
        "id": "BruOQocabsn6"
      },
      "source": [
        "from sklearn.preprocessing import RobustScaler\n",
        "\n",
        "scaler = RobustScaler()\n",
        "X_train = scaler.fit_transform(X_train)\n",
        "X_test = scaler.transform(X_test)"
      ],
      "execution_count": null,
      "outputs": []
    },
    {
      "cell_type": "code",
      "metadata": {
        "id": "_LGUCXlBbsn6"
      },
      "source": [
        "X_train = pd.DataFrame(X_train, columns=[cols])"
      ],
      "execution_count": null,
      "outputs": []
    },
    {
      "cell_type": "code",
      "metadata": {
        "id": "qM6_RTHYbsn6"
      },
      "source": [
        "X_test = pd.DataFrame(X_test, columns=[cols])"
      ],
      "execution_count": null,
      "outputs": []
    },
    {
      "cell_type": "markdown",
      "metadata": {
        "id": "oJpbu9OVbsn6"
      },
      "source": [
        "Random Forest Classifier model with default parameters"
      ]
    },
    {
      "cell_type": "code",
      "metadata": {
        "id": "dhsUVDfqbsn6",
        "outputId": "de2d64ce-1158-436b-9962-1d5f5ab7801c"
      },
      "source": [
        "# instantiate the classifier \n",
        "rfc = RandomForestClassifier(random_state=0)\n",
        "\n",
        "# fit the model\n",
        "rfc.fit(X_train, y_train)\n",
        "\n",
        "# Predict the Test set results\n",
        "y_pred = rfc.predict(X_test)\n",
        "\n",
        "# Check accuracy score \n",
        "print('Model accuracy score with 10 decision-trees : {0:0.4f}'. format(accuracy_score(y_test, y_pred)))"
      ],
      "execution_count": null,
      "outputs": [
        {
          "output_type": "stream",
          "text": [
            "Model accuracy score with 10 decision-trees : 0.8446\n"
          ],
          "name": "stdout"
        }
      ]
    },
    {
      "cell_type": "markdown",
      "metadata": {
        "id": "sguHa2dxbsn6"
      },
      "source": [
        "Here, **y_test** are the true class labels and **y_pred** are the predicted class labels in the test-set."
      ]
    },
    {
      "cell_type": "markdown",
      "metadata": {
        "id": "LN1aCSB9bsn7"
      },
      "source": [
        "Here, I have build the Random Forest Classifier model with default parameter of `n_estimators = 10`. So, I have used 10 decision-trees to build the model. Now, I will increase the number of decision-trees and see its effect on accuracy."
      ]
    },
    {
      "cell_type": "markdown",
      "metadata": {
        "id": "YvKZq704bsn7"
      },
      "source": [
        "Random Forest Classifier model with 100 Decision Trees"
      ]
    },
    {
      "cell_type": "code",
      "metadata": {
        "id": "OVHwp4Dsbsn7",
        "outputId": "a246f0d3-22da-4d59-80c8-2d7bba7efc69"
      },
      "source": [
        "# instantiate the classifier with n_estimators = 100\n",
        "rfc_100 = RandomForestClassifier(n_estimators=100, random_state=0)\n",
        "\n",
        "# fit the model to the training set\n",
        "rfc_100.fit(X_train, y_train)\n",
        "\n",
        "# Predict on the test set results\n",
        "y_pred_100 = rfc_100.predict(X_test)\n",
        "\n",
        "# Check accuracy score \n",
        "print('Model accuracy score with 100 decision-trees : {0:0.4f}'. format(accuracy_score(y_test, y_pred_100)))"
      ],
      "execution_count": null,
      "outputs": [
        {
          "output_type": "stream",
          "text": [
            "Model accuracy score with 100 decision-trees : 0.8521\n"
          ],
          "name": "stdout"
        }
      ]
    },
    {
      "cell_type": "markdown",
      "metadata": {
        "id": "uj5UEiBIbsn7"
      },
      "source": [
        "The model accuracy score with 10 decision-trees is 0.8446 but the same with 100 decision-trees is 0.8521. So, as expected accuracy increases with number of decision-trees in the model."
      ]
    },
    {
      "cell_type": "markdown",
      "metadata": {
        "id": "CkLia4Lxbsn7"
      },
      "source": [
        "Until now, I have used all the features given in the model. Now, I will select only the important features, build the model using these features and see its effect on accuracy. "
      ]
    },
    {
      "cell_type": "code",
      "metadata": {
        "id": "BjG3PBHPbsn8",
        "outputId": "b91bcdee-10c4-498e-c574-f41ec35e10a1"
      },
      "source": [
        "# create the classifier with n_estimators = 100\n",
        "clf = RandomForestClassifier(n_estimators=100, random_state=0)\n",
        "\n",
        "# fit the model to the training set\n",
        "clf.fit(X_train, y_train)"
      ],
      "execution_count": null,
      "outputs": [
        {
          "output_type": "execute_result",
          "data": {
            "text/plain": [
              "RandomForestClassifier(bootstrap=True, class_weight=None, criterion='gini',\n",
              "                       max_depth=None, max_features='auto', max_leaf_nodes=None,\n",
              "                       min_impurity_decrease=0.0, min_impurity_split=None,\n",
              "                       min_samples_leaf=1, min_samples_split=2,\n",
              "                       min_weight_fraction_leaf=0.0, n_estimators=100,\n",
              "                       n_jobs=None, oob_score=False, random_state=0, verbose=0,\n",
              "                       warm_start=False)"
            ]
          },
          "metadata": {
            "tags": []
          },
          "execution_count": 73
        }
      ]
    },
    {
      "cell_type": "code",
      "metadata": {
        "scrolled": true,
        "id": "DFjrlY90bsn8",
        "outputId": "912b2549-9903-4552-88fa-d2a8e19ce54c"
      },
      "source": [
        "# view the feature scores\n",
        "feature_scores = pd.Series(clf.feature_importances_, index=X_train.columns).sort_values(ascending=False)\n",
        "\n",
        "feature_scores"
      ],
      "execution_count": null,
      "outputs": [
        {
          "output_type": "execute_result",
          "data": {
            "text/plain": [
              "fnlwgt               0.159772\n",
              "age                  0.149074\n",
              "capital_gain         0.091299\n",
              "hours_per_week       0.086339\n",
              "education_num        0.065130\n",
              "                       ...   \n",
              "native_country_16    0.000028\n",
              "occupation_14        0.000015\n",
              "native_country_35    0.000009\n",
              "workclass_8          0.000008\n",
              "native_country_41    0.000000\n",
              "Length: 105, dtype: float64"
            ]
          },
          "metadata": {
            "tags": []
          },
          "execution_count": 74
        }
      ]
    },
    {
      "cell_type": "markdown",
      "metadata": {
        "id": "OwqzYA7Cbsn8"
      },
      "source": [
        "We can see that the most important feature is `fnlwgt` and least important feature is `native_country_41`."
      ]
    },
    {
      "cell_type": "markdown",
      "metadata": {
        "id": "qMZwYbXJbsn8"
      },
      "source": [
        "Visualize feature scores of the features"
      ]
    },
    {
      "cell_type": "code",
      "metadata": {
        "id": "GrTMya-Bbsn8",
        "outputId": "66d6ed0a-4809-4126-e431-3fd93b2b9f84"
      },
      "source": [
        "# Creating a seaborn bar plot\n",
        "\n",
        "f, ax = plt.subplots(figsize=(30, 24))\n",
        "ax = sns.barplot(x=feature_scores, y=feature_scores.index, data=df)\n",
        "ax.set_title(\"Visualize feature scores of the features\")\n",
        "ax.set_yticklabels(feature_scores.index)\n",
        "ax.set_xlabel(\"Feature importance score\")\n",
        "ax.set_ylabel(\"Features\")\n",
        "plt.show()\n"
      ],
      "execution_count": null,
      "outputs": [
        {
          "output_type": "display_data",
          "data": {
            "image/png": "[encoded data removed]",
            "text/plain": [
              "<Figure size 2160x1728 with 1 Axes>"
            ]
          },
          "metadata": {
            "tags": [],
            "needs_background": "light"
          }
        }
      ]
    },
    {
      "cell_type": "markdown",
      "metadata": {
        "id": "qWK8WPlcbsn9"
      },
      "source": [
        "Build the Random Forest model on selected features"
      ]
    },
    {
      "cell_type": "code",
      "metadata": {
        "id": "IoGt6I_9bsn9"
      },
      "source": [
        "# drop the least important feature from X_train and X_test\n",
        "\n",
        "X_train = X_train.drop(['native_country_41'], axis=1)\n",
        "X_test = X_test.drop(['native_country_41'], axis=1)"
      ],
      "execution_count": null,
      "outputs": []
    },
    {
      "cell_type": "code",
      "metadata": {
        "id": "6LSrTefTbsn9",
        "outputId": "967d1caf-7cd3-4641-fff8-f1e6aa61849b"
      },
      "source": [
        "# instantiate the classifier with n_estimators = 100\n",
        "clf = RandomForestClassifier(n_estimators=100, random_state=0)\n",
        "\n",
        "# fit the model to the training set\n",
        "clf.fit(X_train, y_train)\n",
        "\n",
        "# Predict on the test set results\n",
        "y_pred = clf.predict(X_test)\n",
        "\n",
        "# Check accuracy score \n",
        "print('Model accuracy score with native_country_41 variable removed : {0:0.4f}'. format(accuracy_score(y_test, y_pred)))"
      ],
      "execution_count": null,
      "outputs": [
        {
          "output_type": "stream",
          "text": [
            "Model accuracy score with native_country_41 variable removed : 0.8544\n"
          ],
          "name": "stdout"
        }
      ]
    },
    {
      "cell_type": "markdown",
      "metadata": {
        "id": "GMIzCQStbsn9"
      },
      "source": [
        "#### Interpretation\n",
        "\n",
        "- I have removed the `native_country_41` variable from the model, rebuild it and checked its accuracy. \n",
        "\n",
        "- The accuracy of the model now comes out to be 0.8544. \n",
        "\n",
        "- The accuracy of the model with all the variables taken into account is 0.8521. \n",
        "\n",
        "- So, we can see that the model accuracy has been improved with `native_country_41` variable removed from the model."
      ]
    },
    {
      "cell_type": "markdown",
      "metadata": {
        "id": "Bj8T3vEybsn9"
      },
      "source": [
        "Confusion matrix"
      ]
    },
    {
      "cell_type": "code",
      "metadata": {
        "id": "OyigTUyBbsn9",
        "outputId": "e62732ff-e005-4744-f6d5-f80f32598f45"
      },
      "source": [
        "# Print the Confusion Matrix and slice it into four pieces\n",
        "cm = confusion_matrix(y_test, y_pred)\n",
        "print('Confusion matrix\\n\\n', cm)"
      ],
      "execution_count": null,
      "outputs": [
        {
          "output_type": "stream",
          "text": [
            "Confusion matrix\n",
            "\n",
            " [[6867  540]\n",
            " [ 882 1480]]\n"
          ],
          "name": "stdout"
        }
      ]
    },
    {
      "cell_type": "code",
      "metadata": {
        "id": "-k3E7tpybsn-",
        "outputId": "c50bba41-0f70-44cf-f5dc-f2125502e6d0"
      },
      "source": [
        "# visualize confusion matrix with seaborn heatmap\n",
        "\n",
        "cm_matrix = pd.DataFrame(data=cm, columns=['Actual Positive:1', 'Actual Negative:0'], \n",
        "                                 index=['Predict Positive:1', 'Predict Negative:0'])\n",
        "\n",
        "sns.heatmap(cm_matrix, annot=True, fmt='d', cmap='YlGnBu')"
      ],
      "execution_count": null,
      "outputs": [
        {
          "output_type": "execute_result",
          "data": {
            "text/plain": [
              "<matplotlib.axes._subplots.AxesSubplot at 0x7f2b5f602278>"
            ]
          },
          "metadata": {
            "tags": []
          },
          "execution_count": 79
        },
        {
          "output_type": "display_data",
          "data": {
            "image/png": "[encoded data removed]",
            "text/plain": [
              "<Figure size 432x288 with 2 Axes>"
            ]
          },
          "metadata": {
            "tags": [],
            "needs_background": "light"
          }
        }
      ]
    }
  ]
}